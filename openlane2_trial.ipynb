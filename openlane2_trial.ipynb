{
  "cells": [
    {
      "cell_type": "markdown",
      "metadata": {
        "id": "view-in-github",
        "colab_type": "text"
      },
      "source": [
        "<a href=\"https://colab.research.google.com/github/wctangcse/OpenLane/blob/master/openlane2_trial.ipynb\" target=\"_parent\"><img src=\"https://colab.research.google.com/assets/colab-badge.svg\" alt=\"Open In Colab\"/></a>"
      ]
    },
    {
      "cell_type": "markdown",
      "metadata": {
        "id": "D0gcvVijymHZ"
      },
      "source": [
        "## OpenLane Colab\n",
        "\n",
        "This Google Colab notebook will:\n",
        "* Install OpenLane and its dependencies\n",
        "* Run a simple design, namely a serial-parallel multiplier, through the flow\n",
        "  and targeting the [open source sky130 PDK](https://github.com/google/skywater-pdk/)\n",
        "  by Google and Skywater."
      ]
    },
    {
      "cell_type": "code",
      "execution_count": 2,
      "metadata": {
        "colab": {
          "base_uri": "https://localhost:8080/"
        },
        "id": "Px5144kXymHa",
        "outputId": "9a9a667b-1ce8-44a6-be1a-ef6008c980a9"
      },
      "outputs": [
        {
          "output_type": "stream",
          "name": "stdout",
          "text": [
            "  % Total    % Received % Xferd  Average Speed   Time    Time     Time  Current\n",
            "                                 Dload  Upload   Total   Spent    Left  Speed\n",
            "  0     0    0     0    0     0      0      0 --:--:-- --:--:-- --:--:--     0\n",
            "100  4267  100  4267    0     0   3520      0  0:00:01  0:00:01 --:--:-- 99232\n",
            "downloading Nix 2.29.1 binary tarball for x86_64-linux from 'https://releases.nixos.org/nix/nix-2.29.1/nix-2.29.1-x86_64-linux.tar.xz' to '/tmp/nix-binary-tarball-unpack.f2W9wU4uq9'...\n",
            "  % Total    % Received % Xferd  Average Speed   Time    Time     Time  Current\n",
            "                                 Dload  Upload   Total   Spent    Left  Speed\n",
            "100 24.1M  100 24.1M    0     0  75.9M      0 --:--:-- --:--:-- --:--:-- 75.9M\n",
            "Note: a multi-user installation is possible. See https://nixos.org/manual/nix/stable/installation/installing-binary.html#multi-user-installation\n",
            "\u001b[1;31mSwitching to the Multi-user Installer\u001b[0m\n",
            "\u001b[32mWelcome to the Multi-User Nix Installation\n",
            "\u001b[0m\n",
            "This installation tool will set up your computer with the Nix package\n",
            "manager. This will happen in a few stages:\n",
            "\n",
            "1. Make sure your computer doesn't already have Nix. If it does, I\n",
            "   will show you instructions on how to clean up your old install.\n",
            "\n",
            "2. Show you what I am going to install and where. Then I will ask\n",
            "   if you are ready to continue.\n",
            "\n",
            "3. Create the system users \u001b[34m(uids [30001..30032])\u001b[0m and groups \u001b[34m(gid 30000)\u001b[0m\n",
            "   that the Nix daemon uses to run builds. To create system users\n",
            "   in a different range, exit and run this tool again with\n",
            "   NIX_FIRST_BUILD_UID set.\n",
            "\n",
            "4. Perform the basic installation of the Nix files daemon.\n",
            "\n",
            "5. Configure your shell to import special Nix Profile files, so you\n",
            "   can use Nix.\n",
            "\n",
            "6. Start the Nix daemon.\n",
            "\n",
            "\u001b[32m\u001b[4;32mWould you like to see a more detailed list of what I will do?\n",
            "\u001b[0mNo TTY, assuming you would say yes :)\n",
            "\n",
            "I will:\n",
            "\n",
            " - make sure your computer doesn't already have Nix files\n",
            "   (if it does, I will tell you how to clean them up.)\n",
            " - create local users (see the list above for the users I'll make)\n",
            " - create a local group (nixbld)\n",
            " - install Nix in /nix\n",
            " - create a configuration file in /etc/nix\n",
            " - set up the \"default profile\" by creating some Nix-related files in\n",
            "   /root\n",
            " - back up /etc/bash.bashrc to /etc/bash.bashrc.backup-before-nix\n",
            " - update /etc/bash.bashrc to include some Nix configuration\n",
            " - load and start a service (at /etc/systemd/system/nix-daemon.service\n",
            "   and /etc/systemd/system/nix-daemon.socket) for nix-daemon\n",
            "\n",
            "\u001b[32m\u001b[4;32mReady to continue?\n",
            "\u001b[0mNo TTY, assuming you would say yes :)\n",
            "\n",
            "\u001b[32m~~> Checking for artifacts of previous installs\n",
            "\u001b[0mBefore I try to install, I'll check for signs Nix already is or has\n",
            "been installed on this system.\n",
            "\n",
            "\u001b[31m---- warning! ------------------------------------------------------------------\n",
            "\u001b[0mWe did not detect systemd on your system. With a multi-user install\n",
            "without systemd you will have to manually configure your init system to\n",
            "launch the Nix daemon after installation.\n",
            "\n",
            "\u001b[32m\u001b[4;32mDo you want to proceed with a multi-user installation?\n",
            "\u001b[0mNo TTY, assuming you would say yes :)\n",
            "\n",
            "\u001b[34m---- Nix config report ---------------------------------------------------------\n",
            "\u001b[0m\u001b[1m        Temp Dir\u001b[0m:\t/tmp/tmp.bxzkso2WY3\n",
            "\u001b[1m        Nix Root\u001b[0m:\t/nix\n",
            "\u001b[1m     Build Users\u001b[0m:\t32\n",
            "\u001b[1m  Build Group ID\u001b[0m:\t30000\n",
            "\u001b[1mBuild Group Name\u001b[0m:\tnixbld\n",
            "\n",
            "\u001b[4;34mbuild users:\n",
            "\u001b[0m\u001b[1m    Username\u001b[0m:\tUID\n",
            "\u001b[1m     nixbld1\u001b[0m:\t30001\n",
            "\u001b[1m     nixbld2\u001b[0m:\t30002\n",
            "\u001b[1m     nixbld3\u001b[0m:\t30003\n",
            "\u001b[1m     nixbld4\u001b[0m:\t30004\n",
            "\u001b[1m     nixbld5\u001b[0m:\t30005\n",
            "\u001b[1m     nixbld6\u001b[0m:\t30006\n",
            "\u001b[1m     nixbld7\u001b[0m:\t30007\n",
            "\u001b[1m     nixbld8\u001b[0m:\t30008\n",
            "\u001b[1m     nixbld9\u001b[0m:\t30009\n",
            "\u001b[1m     nixbld10\u001b[0m:\t30010\n",
            "\u001b[1m     nixbld11\u001b[0m:\t30011\n",
            "\u001b[1m     nixbld12\u001b[0m:\t30012\n",
            "\u001b[1m     nixbld13\u001b[0m:\t30013\n",
            "\u001b[1m     nixbld14\u001b[0m:\t30014\n",
            "\u001b[1m     nixbld15\u001b[0m:\t30015\n",
            "\u001b[1m     nixbld16\u001b[0m:\t30016\n",
            "\u001b[1m     nixbld17\u001b[0m:\t30017\n",
            "\u001b[1m     nixbld18\u001b[0m:\t30018\n",
            "\u001b[1m     nixbld19\u001b[0m:\t30019\n",
            "\u001b[1m     nixbld20\u001b[0m:\t30020\n",
            "\u001b[1m     nixbld21\u001b[0m:\t30021\n",
            "\u001b[1m     nixbld22\u001b[0m:\t30022\n",
            "\u001b[1m     nixbld23\u001b[0m:\t30023\n",
            "\u001b[1m     nixbld24\u001b[0m:\t30024\n",
            "\u001b[1m     nixbld25\u001b[0m:\t30025\n",
            "\u001b[1m     nixbld26\u001b[0m:\t30026\n",
            "\u001b[1m     nixbld27\u001b[0m:\t30027\n",
            "\u001b[1m     nixbld28\u001b[0m:\t30028\n",
            "\u001b[1m     nixbld29\u001b[0m:\t30029\n",
            "\u001b[1m     nixbld30\u001b[0m:\t30030\n",
            "\u001b[1m     nixbld31\u001b[0m:\t30031\n",
            "\u001b[1m     nixbld32\u001b[0m:\t30032\n",
            "\n",
            "\u001b[32m\u001b[4;32mReady to continue?\n",
            "\u001b[0mNo TTY, assuming you would say yes :)\n",
            "\n",
            "\u001b[32m~~> Setting up the build group nixbld\n",
            "\u001b[0m\n",
            "\u001b[34m---- sudo execution ------------------------------------------------------------\n",
            "\u001b[0mI am executing:\n",
            "\n",
            "    $ sudo groupadd -g 30000 --system nixbld\n",
            "\n",
            "Create the Nix build group, nixbld\n",
            "\n",
            "\u001b[1m            Created\u001b[0m:\tYes\n",
            "\n",
            "\u001b[32m~~> Setting up the build user nixbld1\n",
            "\u001b[0m\n",
            "\u001b[34m---- sudo execution ------------------------------------------------------------\n",
            "\u001b[0mI am executing:\n",
            "\n",
            "    $ sudo useradd --home-dir /var/empty --comment Nix build user 1 --gid 30000 --groups nixbld --no-user-group --system --shell /sbin/nologin --uid 30001 --password ! nixbld1\n",
            "\n",
            "Creating the Nix build user, nixbld1\n",
            "\n",
            "\u001b[1m           Created\u001b[0m:\tYes\n",
            "\u001b[1m            Hidden\u001b[0m:\tYes\n",
            "\u001b[1m    Home Directory\u001b[0m:\t/var/empty\n",
            "\u001b[1m              Note\u001b[0m:\tNix build user 1\n",
            "\u001b[1m   Logins Disabled\u001b[0m:\tYes\n",
            "\u001b[1m  Member of nixbld\u001b[0m:\tYes\n",
            "\u001b[1m    PrimaryGroupID\u001b[0m:\t30000\n",
            "\n",
            "\u001b[32m~~> Setting up the build user nixbld2\n",
            "\u001b[0m\n",
            "\u001b[34m---- sudo execution ------------------------------------------------------------\n",
            "\u001b[0mI am executing:\n",
            "\n",
            "    $ sudo useradd --home-dir /var/empty --comment Nix build user 2 --gid 30000 --groups nixbld --no-user-group --system --shell /sbin/nologin --uid 30002 --password ! nixbld2\n",
            "\n",
            "Creating the Nix build user, nixbld2\n",
            "\n",
            "\u001b[1m           Created\u001b[0m:\tYes\n",
            "\u001b[1m            Hidden\u001b[0m:\tYes\n",
            "\u001b[1m    Home Directory\u001b[0m:\t/var/empty\n",
            "\u001b[1m              Note\u001b[0m:\tNix build user 2\n",
            "\u001b[1m   Logins Disabled\u001b[0m:\tYes\n",
            "\u001b[1m  Member of nixbld\u001b[0m:\tYes\n",
            "\u001b[1m    PrimaryGroupID\u001b[0m:\t30000\n",
            "\n",
            "\u001b[32m~~> Setting up the build user nixbld3\n",
            "\u001b[0m\n",
            "\u001b[34m---- sudo execution ------------------------------------------------------------\n",
            "\u001b[0mI am executing:\n",
            "\n",
            "    $ sudo useradd --home-dir /var/empty --comment Nix build user 3 --gid 30000 --groups nixbld --no-user-group --system --shell /sbin/nologin --uid 30003 --password ! nixbld3\n",
            "\n",
            "Creating the Nix build user, nixbld3\n",
            "\n",
            "\u001b[1m           Created\u001b[0m:\tYes\n",
            "\u001b[1m            Hidden\u001b[0m:\tYes\n",
            "\u001b[1m    Home Directory\u001b[0m:\t/var/empty\n",
            "\u001b[1m              Note\u001b[0m:\tNix build user 3\n",
            "\u001b[1m   Logins Disabled\u001b[0m:\tYes\n",
            "\u001b[1m  Member of nixbld\u001b[0m:\tYes\n",
            "\u001b[1m    PrimaryGroupID\u001b[0m:\t30000\n",
            "\n",
            "\u001b[32m~~> Setting up the build user nixbld4\n",
            "\u001b[0m\n",
            "\u001b[34m---- sudo execution ------------------------------------------------------------\n",
            "\u001b[0mI am executing:\n",
            "\n",
            "    $ sudo useradd --home-dir /var/empty --comment Nix build user 4 --gid 30000 --groups nixbld --no-user-group --system --shell /sbin/nologin --uid 30004 --password ! nixbld4\n",
            "\n",
            "Creating the Nix build user, nixbld4\n",
            "\n",
            "\u001b[1m           Created\u001b[0m:\tYes\n",
            "\u001b[1m            Hidden\u001b[0m:\tYes\n",
            "\u001b[1m    Home Directory\u001b[0m:\t/var/empty\n",
            "\u001b[1m              Note\u001b[0m:\tNix build user 4\n",
            "\u001b[1m   Logins Disabled\u001b[0m:\tYes\n",
            "\u001b[1m  Member of nixbld\u001b[0m:\tYes\n",
            "\u001b[1m    PrimaryGroupID\u001b[0m:\t30000\n",
            "\n",
            "\u001b[32m~~> Setting up the build user nixbld5\n",
            "\u001b[0m\n",
            "\u001b[34m---- sudo execution ------------------------------------------------------------\n",
            "\u001b[0mI am executing:\n",
            "\n",
            "    $ sudo useradd --home-dir /var/empty --comment Nix build user 5 --gid 30000 --groups nixbld --no-user-group --system --shell /sbin/nologin --uid 30005 --password ! nixbld5\n",
            "\n",
            "Creating the Nix build user, nixbld5\n",
            "\n",
            "\u001b[1m           Created\u001b[0m:\tYes\n",
            "\u001b[1m            Hidden\u001b[0m:\tYes\n",
            "\u001b[1m    Home Directory\u001b[0m:\t/var/empty\n",
            "\u001b[1m              Note\u001b[0m:\tNix build user 5\n",
            "\u001b[1m   Logins Disabled\u001b[0m:\tYes\n",
            "\u001b[1m  Member of nixbld\u001b[0m:\tYes\n",
            "\u001b[1m    PrimaryGroupID\u001b[0m:\t30000\n",
            "\n",
            "\u001b[32m~~> Setting up the build user nixbld6\n",
            "\u001b[0m\n",
            "\u001b[34m---- sudo execution ------------------------------------------------------------\n",
            "\u001b[0mI am executing:\n",
            "\n",
            "    $ sudo useradd --home-dir /var/empty --comment Nix build user 6 --gid 30000 --groups nixbld --no-user-group --system --shell /sbin/nologin --uid 30006 --password ! nixbld6\n",
            "\n",
            "Creating the Nix build user, nixbld6\n",
            "\n",
            "\u001b[1m           Created\u001b[0m:\tYes\n",
            "\u001b[1m            Hidden\u001b[0m:\tYes\n",
            "\u001b[1m    Home Directory\u001b[0m:\t/var/empty\n",
            "\u001b[1m              Note\u001b[0m:\tNix build user 6\n",
            "\u001b[1m   Logins Disabled\u001b[0m:\tYes\n",
            "\u001b[1m  Member of nixbld\u001b[0m:\tYes\n",
            "\u001b[1m    PrimaryGroupID\u001b[0m:\t30000\n",
            "\n",
            "\u001b[32m~~> Setting up the build user nixbld7\n",
            "\u001b[0m\n",
            "\u001b[34m---- sudo execution ------------------------------------------------------------\n",
            "\u001b[0mI am executing:\n",
            "\n",
            "    $ sudo useradd --home-dir /var/empty --comment Nix build user 7 --gid 30000 --groups nixbld --no-user-group --system --shell /sbin/nologin --uid 30007 --password ! nixbld7\n",
            "\n",
            "Creating the Nix build user, nixbld7\n",
            "\n",
            "\u001b[1m           Created\u001b[0m:\tYes\n",
            "\u001b[1m            Hidden\u001b[0m:\tYes\n",
            "\u001b[1m    Home Directory\u001b[0m:\t/var/empty\n",
            "\u001b[1m              Note\u001b[0m:\tNix build user 7\n",
            "\u001b[1m   Logins Disabled\u001b[0m:\tYes\n",
            "\u001b[1m  Member of nixbld\u001b[0m:\tYes\n",
            "\u001b[1m    PrimaryGroupID\u001b[0m:\t30000\n",
            "\n",
            "\u001b[32m~~> Setting up the build user nixbld8\n",
            "\u001b[0m\n",
            "\u001b[34m---- sudo execution ------------------------------------------------------------\n",
            "\u001b[0mI am executing:\n",
            "\n",
            "    $ sudo useradd --home-dir /var/empty --comment Nix build user 8 --gid 30000 --groups nixbld --no-user-group --system --shell /sbin/nologin --uid 30008 --password ! nixbld8\n",
            "\n",
            "Creating the Nix build user, nixbld8\n",
            "\n",
            "\u001b[1m           Created\u001b[0m:\tYes\n",
            "\u001b[1m            Hidden\u001b[0m:\tYes\n",
            "\u001b[1m    Home Directory\u001b[0m:\t/var/empty\n",
            "\u001b[1m              Note\u001b[0m:\tNix build user 8\n",
            "\u001b[1m   Logins Disabled\u001b[0m:\tYes\n",
            "\u001b[1m  Member of nixbld\u001b[0m:\tYes\n",
            "\u001b[1m    PrimaryGroupID\u001b[0m:\t30000\n",
            "\n",
            "\u001b[32m~~> Setting up the build user nixbld9\n",
            "\u001b[0m\n",
            "\u001b[34m---- sudo execution ------------------------------------------------------------\n",
            "\u001b[0mI am executing:\n",
            "\n",
            "    $ sudo useradd --home-dir /var/empty --comment Nix build user 9 --gid 30000 --groups nixbld --no-user-group --system --shell /sbin/nologin --uid 30009 --password ! nixbld9\n",
            "\n",
            "Creating the Nix build user, nixbld9\n",
            "\n",
            "\u001b[1m           Created\u001b[0m:\tYes\n",
            "\u001b[1m            Hidden\u001b[0m:\tYes\n",
            "\u001b[1m    Home Directory\u001b[0m:\t/var/empty\n",
            "\u001b[1m              Note\u001b[0m:\tNix build user 9\n",
            "\u001b[1m   Logins Disabled\u001b[0m:\tYes\n",
            "\u001b[1m  Member of nixbld\u001b[0m:\tYes\n",
            "\u001b[1m    PrimaryGroupID\u001b[0m:\t30000\n",
            "\n",
            "\u001b[32m~~> Setting up the build user nixbld10\n",
            "\u001b[0m\n",
            "\u001b[34m---- sudo execution ------------------------------------------------------------\n",
            "\u001b[0mI am executing:\n",
            "\n",
            "    $ sudo useradd --home-dir /var/empty --comment Nix build user 10 --gid 30000 --groups nixbld --no-user-group --system --shell /sbin/nologin --uid 30010 --password ! nixbld10\n",
            "\n",
            "Creating the Nix build user, nixbld10\n",
            "\n",
            "\u001b[1m           Created\u001b[0m:\tYes\n",
            "\u001b[1m            Hidden\u001b[0m:\tYes\n",
            "\u001b[1m    Home Directory\u001b[0m:\t/var/empty\n",
            "\u001b[1m              Note\u001b[0m:\tNix build user 10\n",
            "\u001b[1m   Logins Disabled\u001b[0m:\tYes\n",
            "\u001b[1m  Member of nixbld\u001b[0m:\tYes\n",
            "\u001b[1m    PrimaryGroupID\u001b[0m:\t30000\n",
            "\n",
            "\u001b[32m~~> Setting up the build user nixbld11\n",
            "\u001b[0m\n",
            "\u001b[34m---- sudo execution ------------------------------------------------------------\n",
            "\u001b[0mI am executing:\n",
            "\n",
            "    $ sudo useradd --home-dir /var/empty --comment Nix build user 11 --gid 30000 --groups nixbld --no-user-group --system --shell /sbin/nologin --uid 30011 --password ! nixbld11\n",
            "\n",
            "Creating the Nix build user, nixbld11\n",
            "\n",
            "\u001b[1m           Created\u001b[0m:\tYes\n",
            "\u001b[1m            Hidden\u001b[0m:\tYes\n",
            "\u001b[1m    Home Directory\u001b[0m:\t/var/empty\n",
            "\u001b[1m              Note\u001b[0m:\tNix build user 11\n",
            "\u001b[1m   Logins Disabled\u001b[0m:\tYes\n",
            "\u001b[1m  Member of nixbld\u001b[0m:\tYes\n",
            "\u001b[1m    PrimaryGroupID\u001b[0m:\t30000\n",
            "\n",
            "\u001b[32m~~> Setting up the build user nixbld12\n",
            "\u001b[0m\n",
            "\u001b[34m---- sudo execution ------------------------------------------------------------\n",
            "\u001b[0mI am executing:\n",
            "\n",
            "    $ sudo useradd --home-dir /var/empty --comment Nix build user 12 --gid 30000 --groups nixbld --no-user-group --system --shell /sbin/nologin --uid 30012 --password ! nixbld12\n",
            "\n",
            "Creating the Nix build user, nixbld12\n",
            "\n",
            "\u001b[1m           Created\u001b[0m:\tYes\n",
            "\u001b[1m            Hidden\u001b[0m:\tYes\n",
            "\u001b[1m    Home Directory\u001b[0m:\t/var/empty\n",
            "\u001b[1m              Note\u001b[0m:\tNix build user 12\n",
            "\u001b[1m   Logins Disabled\u001b[0m:\tYes\n",
            "\u001b[1m  Member of nixbld\u001b[0m:\tYes\n",
            "\u001b[1m    PrimaryGroupID\u001b[0m:\t30000\n",
            "\n",
            "\u001b[32m~~> Setting up the build user nixbld13\n",
            "\u001b[0m\n",
            "\u001b[34m---- sudo execution ------------------------------------------------------------\n",
            "\u001b[0mI am executing:\n",
            "\n",
            "    $ sudo useradd --home-dir /var/empty --comment Nix build user 13 --gid 30000 --groups nixbld --no-user-group --system --shell /sbin/nologin --uid 30013 --password ! nixbld13\n",
            "\n",
            "Creating the Nix build user, nixbld13\n",
            "\n",
            "\u001b[1m           Created\u001b[0m:\tYes\n",
            "\u001b[1m            Hidden\u001b[0m:\tYes\n",
            "\u001b[1m    Home Directory\u001b[0m:\t/var/empty\n",
            "\u001b[1m              Note\u001b[0m:\tNix build user 13\n",
            "\u001b[1m   Logins Disabled\u001b[0m:\tYes\n",
            "\u001b[1m  Member of nixbld\u001b[0m:\tYes\n",
            "\u001b[1m    PrimaryGroupID\u001b[0m:\t30000\n",
            "\n",
            "\u001b[32m~~> Setting up the build user nixbld14\n",
            "\u001b[0m\n",
            "\u001b[34m---- sudo execution ------------------------------------------------------------\n",
            "\u001b[0mI am executing:\n",
            "\n",
            "    $ sudo useradd --home-dir /var/empty --comment Nix build user 14 --gid 30000 --groups nixbld --no-user-group --system --shell /sbin/nologin --uid 30014 --password ! nixbld14\n",
            "\n",
            "Creating the Nix build user, nixbld14\n",
            "\n",
            "\u001b[1m           Created\u001b[0m:\tYes\n",
            "\u001b[1m            Hidden\u001b[0m:\tYes\n",
            "\u001b[1m    Home Directory\u001b[0m:\t/var/empty\n",
            "\u001b[1m              Note\u001b[0m:\tNix build user 14\n",
            "\u001b[1m   Logins Disabled\u001b[0m:\tYes\n",
            "\u001b[1m  Member of nixbld\u001b[0m:\tYes\n",
            "\u001b[1m    PrimaryGroupID\u001b[0m:\t30000\n",
            "\n",
            "\u001b[32m~~> Setting up the build user nixbld15\n",
            "\u001b[0m\n",
            "\u001b[34m---- sudo execution ------------------------------------------------------------\n",
            "\u001b[0mI am executing:\n",
            "\n",
            "    $ sudo useradd --home-dir /var/empty --comment Nix build user 15 --gid 30000 --groups nixbld --no-user-group --system --shell /sbin/nologin --uid 30015 --password ! nixbld15\n",
            "\n",
            "Creating the Nix build user, nixbld15\n",
            "\n",
            "\u001b[1m           Created\u001b[0m:\tYes\n",
            "\u001b[1m            Hidden\u001b[0m:\tYes\n",
            "\u001b[1m    Home Directory\u001b[0m:\t/var/empty\n",
            "\u001b[1m              Note\u001b[0m:\tNix build user 15\n",
            "\u001b[1m   Logins Disabled\u001b[0m:\tYes\n",
            "\u001b[1m  Member of nixbld\u001b[0m:\tYes\n",
            "\u001b[1m    PrimaryGroupID\u001b[0m:\t30000\n",
            "\n",
            "\u001b[32m~~> Setting up the build user nixbld16\n",
            "\u001b[0m\n",
            "\u001b[34m---- sudo execution ------------------------------------------------------------\n",
            "\u001b[0mI am executing:\n",
            "\n",
            "    $ sudo useradd --home-dir /var/empty --comment Nix build user 16 --gid 30000 --groups nixbld --no-user-group --system --shell /sbin/nologin --uid 30016 --password ! nixbld16\n",
            "\n",
            "Creating the Nix build user, nixbld16\n",
            "\n",
            "\u001b[1m           Created\u001b[0m:\tYes\n",
            "\u001b[1m            Hidden\u001b[0m:\tYes\n",
            "\u001b[1m    Home Directory\u001b[0m:\t/var/empty\n",
            "\u001b[1m              Note\u001b[0m:\tNix build user 16\n",
            "\u001b[1m   Logins Disabled\u001b[0m:\tYes\n",
            "\u001b[1m  Member of nixbld\u001b[0m:\tYes\n",
            "\u001b[1m    PrimaryGroupID\u001b[0m:\t30000\n",
            "\n",
            "\u001b[32m~~> Setting up the build user nixbld17\n",
            "\u001b[0m\n",
            "\u001b[34m---- sudo execution ------------------------------------------------------------\n",
            "\u001b[0mI am executing:\n",
            "\n",
            "    $ sudo useradd --home-dir /var/empty --comment Nix build user 17 --gid 30000 --groups nixbld --no-user-group --system --shell /sbin/nologin --uid 30017 --password ! nixbld17\n",
            "\n",
            "Creating the Nix build user, nixbld17\n",
            "\n",
            "\u001b[1m           Created\u001b[0m:\tYes\n",
            "\u001b[1m            Hidden\u001b[0m:\tYes\n",
            "\u001b[1m    Home Directory\u001b[0m:\t/var/empty\n",
            "\u001b[1m              Note\u001b[0m:\tNix build user 17\n",
            "\u001b[1m   Logins Disabled\u001b[0m:\tYes\n",
            "\u001b[1m  Member of nixbld\u001b[0m:\tYes\n",
            "\u001b[1m    PrimaryGroupID\u001b[0m:\t30000\n",
            "\n",
            "\u001b[32m~~> Setting up the build user nixbld18\n",
            "\u001b[0m\n",
            "\u001b[34m---- sudo execution ------------------------------------------------------------\n",
            "\u001b[0mI am executing:\n",
            "\n",
            "    $ sudo useradd --home-dir /var/empty --comment Nix build user 18 --gid 30000 --groups nixbld --no-user-group --system --shell /sbin/nologin --uid 30018 --password ! nixbld18\n",
            "\n",
            "Creating the Nix build user, nixbld18\n",
            "\n",
            "\u001b[1m           Created\u001b[0m:\tYes\n",
            "\u001b[1m            Hidden\u001b[0m:\tYes\n",
            "\u001b[1m    Home Directory\u001b[0m:\t/var/empty\n",
            "\u001b[1m              Note\u001b[0m:\tNix build user 18\n",
            "\u001b[1m   Logins Disabled\u001b[0m:\tYes\n",
            "\u001b[1m  Member of nixbld\u001b[0m:\tYes\n",
            "\u001b[1m    PrimaryGroupID\u001b[0m:\t30000\n",
            "\n",
            "\u001b[32m~~> Setting up the build user nixbld19\n",
            "\u001b[0m\n",
            "\u001b[34m---- sudo execution ------------------------------------------------------------\n",
            "\u001b[0mI am executing:\n",
            "\n",
            "    $ sudo useradd --home-dir /var/empty --comment Nix build user 19 --gid 30000 --groups nixbld --no-user-group --system --shell /sbin/nologin --uid 30019 --password ! nixbld19\n",
            "\n",
            "Creating the Nix build user, nixbld19\n",
            "\n",
            "\u001b[1m           Created\u001b[0m:\tYes\n",
            "\u001b[1m            Hidden\u001b[0m:\tYes\n",
            "\u001b[1m    Home Directory\u001b[0m:\t/var/empty\n",
            "\u001b[1m              Note\u001b[0m:\tNix build user 19\n",
            "\u001b[1m   Logins Disabled\u001b[0m:\tYes\n",
            "\u001b[1m  Member of nixbld\u001b[0m:\tYes\n",
            "\u001b[1m    PrimaryGroupID\u001b[0m:\t30000\n",
            "\n",
            "\u001b[32m~~> Setting up the build user nixbld20\n",
            "\u001b[0m\n",
            "\u001b[34m---- sudo execution ------------------------------------------------------------\n",
            "\u001b[0mI am executing:\n",
            "\n",
            "    $ sudo useradd --home-dir /var/empty --comment Nix build user 20 --gid 30000 --groups nixbld --no-user-group --system --shell /sbin/nologin --uid 30020 --password ! nixbld20\n",
            "\n",
            "Creating the Nix build user, nixbld20\n",
            "\n",
            "\u001b[1m           Created\u001b[0m:\tYes\n",
            "\u001b[1m            Hidden\u001b[0m:\tYes\n",
            "\u001b[1m    Home Directory\u001b[0m:\t/var/empty\n",
            "\u001b[1m              Note\u001b[0m:\tNix build user 20\n",
            "\u001b[1m   Logins Disabled\u001b[0m:\tYes\n",
            "\u001b[1m  Member of nixbld\u001b[0m:\tYes\n",
            "\u001b[1m    PrimaryGroupID\u001b[0m:\t30000\n",
            "\n",
            "\u001b[32m~~> Setting up the build user nixbld21\n",
            "\u001b[0m\n",
            "\u001b[34m---- sudo execution ------------------------------------------------------------\n",
            "\u001b[0mI am executing:\n",
            "\n",
            "    $ sudo useradd --home-dir /var/empty --comment Nix build user 21 --gid 30000 --groups nixbld --no-user-group --system --shell /sbin/nologin --uid 30021 --password ! nixbld21\n",
            "\n",
            "Creating the Nix build user, nixbld21\n",
            "\n",
            "\u001b[1m           Created\u001b[0m:\tYes\n",
            "\u001b[1m            Hidden\u001b[0m:\tYes\n",
            "\u001b[1m    Home Directory\u001b[0m:\t/var/empty\n",
            "\u001b[1m              Note\u001b[0m:\tNix build user 21\n",
            "\u001b[1m   Logins Disabled\u001b[0m:\tYes\n",
            "\u001b[1m  Member of nixbld\u001b[0m:\tYes\n",
            "\u001b[1m    PrimaryGroupID\u001b[0m:\t30000\n",
            "\n",
            "\u001b[32m~~> Setting up the build user nixbld22\n",
            "\u001b[0m\n",
            "\u001b[34m---- sudo execution ------------------------------------------------------------\n",
            "\u001b[0mI am executing:\n",
            "\n",
            "    $ sudo useradd --home-dir /var/empty --comment Nix build user 22 --gid 30000 --groups nixbld --no-user-group --system --shell /sbin/nologin --uid 30022 --password ! nixbld22\n",
            "\n",
            "Creating the Nix build user, nixbld22\n",
            "\n",
            "\u001b[1m           Created\u001b[0m:\tYes\n",
            "\u001b[1m            Hidden\u001b[0m:\tYes\n",
            "\u001b[1m    Home Directory\u001b[0m:\t/var/empty\n",
            "\u001b[1m              Note\u001b[0m:\tNix build user 22\n",
            "\u001b[1m   Logins Disabled\u001b[0m:\tYes\n",
            "\u001b[1m  Member of nixbld\u001b[0m:\tYes\n",
            "\u001b[1m    PrimaryGroupID\u001b[0m:\t30000\n",
            "\n",
            "\u001b[32m~~> Setting up the build user nixbld23\n",
            "\u001b[0m\n",
            "\u001b[34m---- sudo execution ------------------------------------------------------------\n",
            "\u001b[0mI am executing:\n",
            "\n",
            "    $ sudo useradd --home-dir /var/empty --comment Nix build user 23 --gid 30000 --groups nixbld --no-user-group --system --shell /sbin/nologin --uid 30023 --password ! nixbld23\n",
            "\n",
            "Creating the Nix build user, nixbld23\n",
            "\n",
            "\u001b[1m           Created\u001b[0m:\tYes\n",
            "\u001b[1m            Hidden\u001b[0m:\tYes\n",
            "\u001b[1m    Home Directory\u001b[0m:\t/var/empty\n",
            "\u001b[1m              Note\u001b[0m:\tNix build user 23\n",
            "\u001b[1m   Logins Disabled\u001b[0m:\tYes\n",
            "\u001b[1m  Member of nixbld\u001b[0m:\tYes\n",
            "\u001b[1m    PrimaryGroupID\u001b[0m:\t30000\n",
            "\n",
            "\u001b[32m~~> Setting up the build user nixbld24\n",
            "\u001b[0m\n",
            "\u001b[34m---- sudo execution ------------------------------------------------------------\n",
            "\u001b[0mI am executing:\n",
            "\n",
            "    $ sudo useradd --home-dir /var/empty --comment Nix build user 24 --gid 30000 --groups nixbld --no-user-group --system --shell /sbin/nologin --uid 30024 --password ! nixbld24\n",
            "\n",
            "Creating the Nix build user, nixbld24\n",
            "\n",
            "\u001b[1m           Created\u001b[0m:\tYes\n",
            "\u001b[1m            Hidden\u001b[0m:\tYes\n",
            "\u001b[1m    Home Directory\u001b[0m:\t/var/empty\n",
            "\u001b[1m              Note\u001b[0m:\tNix build user 24\n",
            "\u001b[1m   Logins Disabled\u001b[0m:\tYes\n",
            "\u001b[1m  Member of nixbld\u001b[0m:\tYes\n",
            "\u001b[1m    PrimaryGroupID\u001b[0m:\t30000\n",
            "\n",
            "\u001b[32m~~> Setting up the build user nixbld25\n",
            "\u001b[0m\n",
            "\u001b[34m---- sudo execution ------------------------------------------------------------\n",
            "\u001b[0mI am executing:\n",
            "\n",
            "    $ sudo useradd --home-dir /var/empty --comment Nix build user 25 --gid 30000 --groups nixbld --no-user-group --system --shell /sbin/nologin --uid 30025 --password ! nixbld25\n",
            "\n",
            "Creating the Nix build user, nixbld25\n",
            "\n",
            "\u001b[1m           Created\u001b[0m:\tYes\n",
            "\u001b[1m            Hidden\u001b[0m:\tYes\n",
            "\u001b[1m    Home Directory\u001b[0m:\t/var/empty\n",
            "\u001b[1m              Note\u001b[0m:\tNix build user 25\n",
            "\u001b[1m   Logins Disabled\u001b[0m:\tYes\n",
            "\u001b[1m  Member of nixbld\u001b[0m:\tYes\n",
            "\u001b[1m    PrimaryGroupID\u001b[0m:\t30000\n",
            "\n",
            "\u001b[32m~~> Setting up the build user nixbld26\n",
            "\u001b[0m\n",
            "\u001b[34m---- sudo execution ------------------------------------------------------------\n",
            "\u001b[0mI am executing:\n",
            "\n",
            "    $ sudo useradd --home-dir /var/empty --comment Nix build user 26 --gid 30000 --groups nixbld --no-user-group --system --shell /sbin/nologin --uid 30026 --password ! nixbld26\n",
            "\n",
            "Creating the Nix build user, nixbld26\n",
            "\n",
            "\u001b[1m           Created\u001b[0m:\tYes\n",
            "\u001b[1m            Hidden\u001b[0m:\tYes\n",
            "\u001b[1m    Home Directory\u001b[0m:\t/var/empty\n",
            "\u001b[1m              Note\u001b[0m:\tNix build user 26\n",
            "\u001b[1m   Logins Disabled\u001b[0m:\tYes\n",
            "\u001b[1m  Member of nixbld\u001b[0m:\tYes\n",
            "\u001b[1m    PrimaryGroupID\u001b[0m:\t30000\n",
            "\n",
            "\u001b[32m~~> Setting up the build user nixbld27\n",
            "\u001b[0m\n",
            "\u001b[34m---- sudo execution ------------------------------------------------------------\n",
            "\u001b[0mI am executing:\n",
            "\n",
            "    $ sudo useradd --home-dir /var/empty --comment Nix build user 27 --gid 30000 --groups nixbld --no-user-group --system --shell /sbin/nologin --uid 30027 --password ! nixbld27\n",
            "\n",
            "Creating the Nix build user, nixbld27\n",
            "\n",
            "\u001b[1m           Created\u001b[0m:\tYes\n",
            "\u001b[1m            Hidden\u001b[0m:\tYes\n",
            "\u001b[1m    Home Directory\u001b[0m:\t/var/empty\n",
            "\u001b[1m              Note\u001b[0m:\tNix build user 27\n",
            "\u001b[1m   Logins Disabled\u001b[0m:\tYes\n",
            "\u001b[1m  Member of nixbld\u001b[0m:\tYes\n",
            "\u001b[1m    PrimaryGroupID\u001b[0m:\t30000\n",
            "\n",
            "\u001b[32m~~> Setting up the build user nixbld28\n",
            "\u001b[0m\n",
            "\u001b[34m---- sudo execution ------------------------------------------------------------\n",
            "\u001b[0mI am executing:\n",
            "\n",
            "    $ sudo useradd --home-dir /var/empty --comment Nix build user 28 --gid 30000 --groups nixbld --no-user-group --system --shell /sbin/nologin --uid 30028 --password ! nixbld28\n",
            "\n",
            "Creating the Nix build user, nixbld28\n",
            "\n",
            "\u001b[1m           Created\u001b[0m:\tYes\n",
            "\u001b[1m            Hidden\u001b[0m:\tYes\n",
            "\u001b[1m    Home Directory\u001b[0m:\t/var/empty\n",
            "\u001b[1m              Note\u001b[0m:\tNix build user 28\n",
            "\u001b[1m   Logins Disabled\u001b[0m:\tYes\n",
            "\u001b[1m  Member of nixbld\u001b[0m:\tYes\n",
            "\u001b[1m    PrimaryGroupID\u001b[0m:\t30000\n",
            "\n",
            "\u001b[32m~~> Setting up the build user nixbld29\n",
            "\u001b[0m\n",
            "\u001b[34m---- sudo execution ------------------------------------------------------------\n",
            "\u001b[0mI am executing:\n",
            "\n",
            "    $ sudo useradd --home-dir /var/empty --comment Nix build user 29 --gid 30000 --groups nixbld --no-user-group --system --shell /sbin/nologin --uid 30029 --password ! nixbld29\n",
            "\n",
            "Creating the Nix build user, nixbld29\n",
            "\n",
            "\u001b[1m           Created\u001b[0m:\tYes\n",
            "\u001b[1m            Hidden\u001b[0m:\tYes\n",
            "\u001b[1m    Home Directory\u001b[0m:\t/var/empty\n",
            "\u001b[1m              Note\u001b[0m:\tNix build user 29\n",
            "\u001b[1m   Logins Disabled\u001b[0m:\tYes\n",
            "\u001b[1m  Member of nixbld\u001b[0m:\tYes\n",
            "\u001b[1m    PrimaryGroupID\u001b[0m:\t30000\n",
            "\n",
            "\u001b[32m~~> Setting up the build user nixbld30\n",
            "\u001b[0m\n",
            "\u001b[34m---- sudo execution ------------------------------------------------------------\n",
            "\u001b[0mI am executing:\n",
            "\n",
            "    $ sudo useradd --home-dir /var/empty --comment Nix build user 30 --gid 30000 --groups nixbld --no-user-group --system --shell /sbin/nologin --uid 30030 --password ! nixbld30\n",
            "\n",
            "Creating the Nix build user, nixbld30\n",
            "\n",
            "\u001b[1m           Created\u001b[0m:\tYes\n",
            "\u001b[1m            Hidden\u001b[0m:\tYes\n",
            "\u001b[1m    Home Directory\u001b[0m:\t/var/empty\n",
            "\u001b[1m              Note\u001b[0m:\tNix build user 30\n",
            "\u001b[1m   Logins Disabled\u001b[0m:\tYes\n",
            "\u001b[1m  Member of nixbld\u001b[0m:\tYes\n",
            "\u001b[1m    PrimaryGroupID\u001b[0m:\t30000\n",
            "\n",
            "\u001b[32m~~> Setting up the build user nixbld31\n",
            "\u001b[0m\n",
            "\u001b[34m---- sudo execution ------------------------------------------------------------\n",
            "\u001b[0mI am executing:\n",
            "\n",
            "    $ sudo useradd --home-dir /var/empty --comment Nix build user 31 --gid 30000 --groups nixbld --no-user-group --system --shell /sbin/nologin --uid 30031 --password ! nixbld31\n",
            "\n",
            "Creating the Nix build user, nixbld31\n",
            "\n",
            "\u001b[1m           Created\u001b[0m:\tYes\n",
            "\u001b[1m            Hidden\u001b[0m:\tYes\n",
            "\u001b[1m    Home Directory\u001b[0m:\t/var/empty\n",
            "\u001b[1m              Note\u001b[0m:\tNix build user 31\n",
            "\u001b[1m   Logins Disabled\u001b[0m:\tYes\n",
            "\u001b[1m  Member of nixbld\u001b[0m:\tYes\n",
            "\u001b[1m    PrimaryGroupID\u001b[0m:\t30000\n",
            "\n",
            "\u001b[32m~~> Setting up the build user nixbld32\n",
            "\u001b[0m\n",
            "\u001b[34m---- sudo execution ------------------------------------------------------------\n",
            "\u001b[0mI am executing:\n",
            "\n",
            "    $ sudo useradd --home-dir /var/empty --comment Nix build user 32 --gid 30000 --groups nixbld --no-user-group --system --shell /sbin/nologin --uid 30032 --password ! nixbld32\n",
            "\n",
            "Creating the Nix build user, nixbld32\n",
            "\n",
            "\u001b[1m           Created\u001b[0m:\tYes\n",
            "\u001b[1m            Hidden\u001b[0m:\tYes\n",
            "\u001b[1m    Home Directory\u001b[0m:\t/var/empty\n",
            "\u001b[1m              Note\u001b[0m:\tNix build user 32\n",
            "\u001b[1m   Logins Disabled\u001b[0m:\tYes\n",
            "\u001b[1m  Member of nixbld\u001b[0m:\tYes\n",
            "\u001b[1m    PrimaryGroupID\u001b[0m:\t30000\n",
            "\n",
            "\u001b[32m~~> Setting up the basic directory structure\n",
            "\u001b[0m\n",
            "\u001b[34m---- sudo execution ------------------------------------------------------------\n",
            "\u001b[0mI am executing:\n",
            "\n",
            "    $ sudo install -dv -m 0755 /nix /nix/var /nix/var/log /nix/var/log/nix /nix/var/log/nix/drvs /nix/var/nix /nix/var/nix/db /nix/var/nix/gcroots /nix/var/nix/profiles /nix/var/nix/temproots /nix/var/nix/userpool /nix/var/nix/daemon-socket /nix/var/nix/gcroots/per-user /nix/var/nix/profiles/per-user\n",
            "\n",
            "to make the basic directory structure of Nix (part 1)\n",
            "\n",
            "install: creating directory '/nix'\n",
            "install: creating directory '/nix/var'\n",
            "install: creating directory '/nix/var/log'\n",
            "install: creating directory '/nix/var/log/nix'\n",
            "install: creating directory '/nix/var/log/nix/drvs'\n",
            "install: creating directory '/nix/var/nix'\n",
            "install: creating directory '/nix/var/nix/db'\n",
            "install: creating directory '/nix/var/nix/gcroots'\n",
            "install: creating directory '/nix/var/nix/profiles'\n",
            "install: creating directory '/nix/var/nix/temproots'\n",
            "install: creating directory '/nix/var/nix/userpool'\n",
            "install: creating directory '/nix/var/nix/daemon-socket'\n",
            "install: creating directory '/nix/var/nix/gcroots/per-user'\n",
            "install: creating directory '/nix/var/nix/profiles/per-user'\n",
            "\n",
            "\u001b[34m---- sudo execution ------------------------------------------------------------\n",
            "\u001b[0mI am executing:\n",
            "\n",
            "    $ sudo install -dv -g nixbld -m 1775 /nix/store\n",
            "\n",
            "to make the basic directory structure of Nix (part 2)\n",
            "\n",
            "install: creating directory '/nix/store'\n",
            "\n",
            "\u001b[34m---- sudo execution ------------------------------------------------------------\n",
            "\u001b[0mI am executing:\n",
            "\n",
            "    $ sudo install -dv -m 0555 /etc/nix\n",
            "\n",
            "to place the default nix daemon configuration (part 1)\n",
            "\n",
            "install: creating directory '/etc/nix'\n",
            "\n",
            "\u001b[34m---- sudo execution ------------------------------------------------------------\n",
            "\u001b[0mI am executing:\n",
            "\n",
            "    $ sudo install -m 0644 /tmp/tmp.bxzkso2WY3/.nix-channels /root/.nix-channels\n",
            "\n",
            "to set up the default system channel (part 1)\n",
            "\n",
            "\n",
            "\u001b[32m~~> Installing Nix\n",
            "\u001b[0m\n",
            "\u001b[34m---- sudo execution ------------------------------------------------------------\n",
            "\u001b[0mI am executing:\n",
            "\n",
            "    $ sudo cp -RPp ./store/0369qr470fzidifvg53082zy6n37zj2s-s2n-tls-1.5.12 ./store/056kf3y6n9q5i7gdiynwdj6wrmb7b4kx-curl-8.12.1 ./store/0x600292yi5qzg389nan9j4dvzlh8785-gcc-14.2.1.20250322-libgcc ./store/132yjkbgnirm9riwd1cwvvgr33a6sphf-zstd-1.5.7 ./store/1i5cz1bqy7g9kaq6dkaqchn857b2h8cs-libssh2-1.11.1 ./store/1sa0svzaxv6vqxy6wqdpbc99gj9l9g4x-nix-flake-2.29.1 ./store/25mgr0zphrz92ccs5dzwpki2i4dylx0z-aws-crt-cpp-0.29.4 ./store/2g1l5rwbpvgdz7ykx9ryfajamnhbcgw5-aws-c-io-0.15.3 ./store/2risglirc1di21134b0pyaxcn1z76xqd-aws-c-auth-0.8.1 ./store/2wmmwdbxp6myhdbrqsan7nbpsfazszvl-nss-cacert-3.108 ./store/38jbvjqj4qwp1lpdhki4brvxqxlyc4f1-aws-c-http-0.9.2 ./store/3dxf3h6dfkji265h3yfwsp4rcl2zkf0c-aws-c-sdkutils-0.2.1 ./store/45m0syxl368gqmnhxxpqpnpng9yvpf84-boehm-gc-8.2.8 ./store/49dxdr3ln7xfna1b94vi5hra6rgqk6h1-attr-2.5.2 ./store/4cyin7qmw12xmd25xlq9fp4sgc7mn3mc-boost-1.87.0 ./store/63lan55wm3n1h5r9rn7gbihpzfsnkmi1-libarchive-3.7.8-lib ./store/7fm2w36zbnc5cykyvwry97y1s7arw12f-nix-cmd-2.29.1 ./store/8birdx7fkbs0zdg378mmq8phwk85id4r-krb5-1.21.3-lib ./store/8dr41ckl7sbv2v5aim3csxzql03z68hk-zlib-1.3.1 ./store/8ms1zkkidmvnghnvdx07yjzj8cvi4dzm-llhttp-9.2.1 ./store/8x1ks9gb4qk91wwf7p6rjza4bscinarj-nix-util-2.29.1 ./store/92qr85qfacrjxkyp21y42yw1w4hxyx2v-aws-c-event-stream-0.5.0 ./store/9k09w5bk96w85ia70dyaa9b9mj2pjwwh-nix-fetchers-2.29.1 ./store/acia13s3psa6hyl0n3an25syz55qwwjp-libsodium-1.0.20 ./store/af0zr1rk5vjspqmckvikrh935d9d6j5r-nix-main-2.29.1 ./store/arv0cbngl4sa4w349166bq1x6dh6b7jy-nghttp2-1.65.0-lib ./store/bj4jsc89w5gl4c63cs823ydj3fksjw89-tbb-2021.11.0-dev ./store/br3j52aw0njxi03s9ppmxcil3bw929g6-aws-sdk-cpp-1.11.448 ./store/chg330wi4p9g0r9bab2186wwhbgmlm5z-pcre2-10.44 ./store/cjs7mgw6q8zp75qapfmqhqnbf62b3fwa-libgit2-1.9.0-lib ./store/czg92d6mb88mp89vnmbf2ddnm8m0pbly-editline-1.17.1 ./store/ddnrpqdpfm1nsrfji3hr4aqmd93y6xkv-brotli-1.1.0-lib ./store/fdsndp18qa1fk375vcd4vrn00c0p4zpr-xgcc-14.2.1.20250322-libgcc ./store/g3s0z9r7m1lsfxdk8bj88nw8k8q3dmmg-glibc-2.40-66 ./store/g5cplv55bx1ajr9cai1arjfl8gpml311-libblake3-1.8.2 ./store/gk2b0g62xkrvzm47hlfzl919063m2z69-lowdown-1.3.2-lib ./store/gqss03q9pvhg560rwiinrwmvkaj64qls-aws-c-common-0.10.3 ./store/gv7z0km39q3fgzavpic8vrl7smh5n2w6-gcc-14.2.1.20250322-lib ./store/hzfjla4v6x1851jh0wakajlqif0jxrgy-xz-5.8.1 ./store/id64gslv6xwm2ylsb6s1zmjq3d5cc1n6-libxml2-2.13.8 ./store/j0ifb5bi20wdvcfy32wrkxy3ndpmrbnd-nix-2.29.1 ./store/k524klxgb2zyqf1kcq1xm68gxnjw70jy-aws-c-cal-0.8.0 ./store/kfqq6m8i6wm82g52dbbvpdgkx6xgnx73-aws-c-s3-0.7.1 ./store/l76031qldfvf2cr8xvpyp0652w0inp3r-libcpuid-0.7.1 ./store/mjsdsjml26kk2zhwjnfp20vvs43ackdh-aws-c-compression-0.3.0 ./store/mk2ddhh8z5fkx9wpm36mibrxqsmkd723-publicsuffix-list-0-unstable-2025-03-12 ./store/mq1680dppidpggmaqaklwapvgm6iw3a6-bzip2-1.0.8 ./store/n57pk92cs22w8q47rnfy72kppc8m6f4a-libseccomp-2.6.0-lib ./store/n8kngjvvbs2pa9ls6shm92crz2lkq8qs-keyutils-1.6.3-lib ./store/nff52xidq9f2qf93x5r5sr8zc8iwwa5j-sqlite-3.48.0 ./store/np1bpjysbx7269m0qm5zfjhk4zci2iwg-aws-checksums-0.2.2 ./store/q364yb4g134afp03z8ysafl1kkx8wh7f-nix-expr-2.29.1 ./store/q7zsvq1qrrdv7x4lzl5wfph6ydjnr5wm-nix-store-2.29.1 ./store/qjvmk7hav4j7x7z0sj3kvncm1mrdjnkj-aws-c-mqtt-0.11.0 ./store/vzdd455zm255kx85hg1cvci3bbn8adwj-libunistring-1.3 ./store/wph1pwdzril0vfazpa58f6m9shwv9233-busybox-1.36.1 ./store/xg75pc4yyfd5n2fimhb98ps910q5lm5n-bash-5.2p37 ./store/xy8x4g472i5n1bh24c5ixhbnk6qlm9vz-openssl-3.4.1 ./store/y0ii7yfaxi2k2vnfyknb64rcczsdyjkf-libidn2-2.3.8 ./store/y3qvisadf9w5wrdpa8v2vdx5ypa8v8d2-tbb-2021.11.0 ./store/yi6n5l389cg5nh4vy2hdzffhkvinr9l7-libpsl-0.21.5 ./store/z8fzi165wkivbikld909bl5zk6r29vsx-acl-2.3.2 /nix/store/\n",
            "\n",
            "to copy the basic Nix files to the new store at /nix/store\n",
            "\n",
            "\n",
            "\u001b[34m---- sudo execution ------------------------------------------------------------\n",
            "\u001b[0mI am executing:\n",
            "\n",
            "    $ sudo chmod -R ugo-w /nix/store/\n",
            "\n",
            "to make the new store non-writable at /nix/store\n",
            "\n",
            "      Alright! We have our first nix at /nix/store/j0ifb5bi20wdvcfy32wrkxy3ndpmrbnd-nix-2.29.1\n",
            "\n",
            "\u001b[34m---- sudo execution ------------------------------------------------------------\n",
            "\u001b[0mI am executing:\n",
            "\n",
            "    $ sudo HOME=/root /nix/store/j0ifb5bi20wdvcfy32wrkxy3ndpmrbnd-nix-2.29.1/bin/nix-store --load-db\n",
            "\n",
            "to load data for the first time in to the Nix Database\n",
            "\n",
            "      Just finished getting the nix database ready.\n",
            "\n",
            "\u001b[32m~~> Setting up shell profiles: /etc/bashrc /etc/profile.d/nix.sh /etc/zshrc /etc/bash.bashrc /etc/zsh/zshrc\n",
            "\u001b[0m\n",
            "\u001b[34m---- sudo execution ------------------------------------------------------------\n",
            "\u001b[0mI am executing:\n",
            "\n",
            "    $ sudo touch /etc/bashrc\n",
            "\n",
            "to create a stub /etc/bashrc which will be updated\n",
            "\n",
            "\n",
            "\u001b[34m---- sudo execution ------------------------------------------------------------\n",
            "\u001b[0mI am executing:\n",
            "\n",
            "    $ sudo tee -a /etc/bashrc\n",
            "\n",
            "extend your /etc/bashrc with nix-daemon settings\n",
            "\n",
            "\n",
            "# Nix\n",
            "if [ -e '/nix/var/nix/profiles/default/etc/profile.d/nix-daemon.sh' ]; then\n",
            "  . '/nix/var/nix/profiles/default/etc/profile.d/nix-daemon.sh'\n",
            "fi\n",
            "# End Nix\n",
            "\n",
            "\n",
            "\u001b[34m---- sudo execution ------------------------------------------------------------\n",
            "\u001b[0mI am executing:\n",
            "\n",
            "    $ sudo touch /etc/profile.d/nix.sh\n",
            "\n",
            "to create a stub /etc/profile.d/nix.sh which will be updated\n",
            "\n",
            "\n",
            "\u001b[34m---- sudo execution ------------------------------------------------------------\n",
            "\u001b[0mI am executing:\n",
            "\n",
            "    $ sudo tee -a /etc/profile.d/nix.sh\n",
            "\n",
            "extend your /etc/profile.d/nix.sh with nix-daemon settings\n",
            "\n",
            "\n",
            "# Nix\n",
            "if [ -e '/nix/var/nix/profiles/default/etc/profile.d/nix-daemon.sh' ]; then\n",
            "  . '/nix/var/nix/profiles/default/etc/profile.d/nix-daemon.sh'\n",
            "fi\n",
            "# End Nix\n",
            "\n",
            "\n",
            "\u001b[34m---- sudo execution ------------------------------------------------------------\n",
            "\u001b[0mI am executing:\n",
            "\n",
            "    $ sudo touch /etc/zshrc\n",
            "\n",
            "to create a stub /etc/zshrc which will be updated\n",
            "\n",
            "\n",
            "\u001b[34m---- sudo execution ------------------------------------------------------------\n",
            "\u001b[0mI am executing:\n",
            "\n",
            "    $ sudo tee -a /etc/zshrc\n",
            "\n",
            "extend your /etc/zshrc with nix-daemon settings\n",
            "\n",
            "\n",
            "# Nix\n",
            "if [ -e '/nix/var/nix/profiles/default/etc/profile.d/nix-daemon.sh' ]; then\n",
            "  . '/nix/var/nix/profiles/default/etc/profile.d/nix-daemon.sh'\n",
            "fi\n",
            "# End Nix\n",
            "\n",
            "\n",
            "\u001b[34m---- sudo execution ------------------------------------------------------------\n",
            "\u001b[0mI am executing:\n",
            "\n",
            "    $ sudo cp /etc/bash.bashrc /etc/bash.bashrc.backup-before-nix\n",
            "\n",
            "to back up your current /etc/bash.bashrc to /etc/bash.bashrc.backup-before-nix\n",
            "\n",
            "\n",
            "\u001b[34m---- sudo execution ------------------------------------------------------------\n",
            "\u001b[0mI am executing:\n",
            "\n",
            "    $ sudo tee -a /etc/bash.bashrc\n",
            "\n",
            "extend your /etc/bash.bashrc with nix-daemon settings\n",
            "\n",
            "\n",
            "# Nix\n",
            "if [ -e '/nix/var/nix/profiles/default/etc/profile.d/nix-daemon.sh' ]; then\n",
            "  . '/nix/var/nix/profiles/default/etc/profile.d/nix-daemon.sh'\n",
            "fi\n",
            "# End Nix\n",
            "\n",
            "\n",
            "\u001b[32m~~> Setting up shell profiles for Fish with conf.d/nix.fish inside /etc/fish /usr/local/etc/fish /opt/homebrew/etc/fish /opt/local/etc/fish\n",
            "\u001b[0m\n",
            "\u001b[32m~~> Setting up the default profile\n",
            "\u001b[0m\n",
            "\u001b[34m---- sudo execution ------------------------------------------------------------\n",
            "\u001b[0mI am executing:\n",
            "\n",
            "    $ sudo HOME=/root /nix/store/j0ifb5bi20wdvcfy32wrkxy3ndpmrbnd-nix-2.29.1/bin/nix-env -i /nix/store/j0ifb5bi20wdvcfy32wrkxy3ndpmrbnd-nix-2.29.1\n",
            "\n",
            "to install a bootstrapping Nix in to the default profile\n",
            "\n",
            "installing 'nix-2.29.1'\n",
            "building '/nix/store/wcwyy3fmiz2s6m6xl50wac4nvbz4gr2s-user-environment.drv'...\n",
            "\n",
            "\u001b[34m---- sudo execution ------------------------------------------------------------\n",
            "\u001b[0mI am executing:\n",
            "\n",
            "    $ sudo HOME=/root /nix/store/j0ifb5bi20wdvcfy32wrkxy3ndpmrbnd-nix-2.29.1/bin/nix-env -i /nix/store/2wmmwdbxp6myhdbrqsan7nbpsfazszvl-nss-cacert-3.108\n",
            "\n",
            "to install a bootstrapping SSL certificate just for Nix in to the default profile\n",
            "\n",
            "installing 'nss-cacert-3.108'\n",
            "building '/nix/store/pg5khsz8ln0i7klcmw27mcp69li6kyxd-user-environment.drv'...\n",
            "\n",
            "\u001b[34m---- sudo execution ------------------------------------------------------------\n",
            "\u001b[0mI am executing:\n",
            "\n",
            "    $ sudo HOME=/root NIX_SSL_CERT_FILE=/nix/var/nix/profiles/default/etc/ssl/certs/ca-bundle.crt /nix/store/j0ifb5bi20wdvcfy32wrkxy3ndpmrbnd-nix-2.29.1/bin/nix-channel --update nixpkgs\n",
            "\n",
            "to update the default channel in the default profile\n",
            "\n",
            "unpacking 1 channels...\n",
            "\n",
            "\u001b[34m---- sudo execution ------------------------------------------------------------\n",
            "\u001b[0mI am executing:\n",
            "\n",
            "    $ sudo install -m 0644 /tmp/tmp.bxzkso2WY3/nix.conf /etc/nix/nix.conf\n",
            "\n",
            "to place the default nix daemon configuration (part 2)\n",
            "\n",
            "\u001b[32mAlright! We're done!\n",
            "\u001b[0mTry it! Open a new terminal, and type:\n",
            "  $ sudo nix-daemon\n",
            "  $ nix-shell -p nix-info --run \"nix-info -m\"\n",
            "\n",
            "Thank you for using this installer. If you have any feedback or need\n",
            "help, don't hesitate:\n",
            "\n",
            "You can open an issue at\n",
            "https://github.com/NixOS/nix/issues/new?labels=installer&template=installer.md\n",
            "\n",
            "Or get in touch with the community: https://nixos.org/community\n",
            "\n",
            "\u001b[34m---- Reminders -----------------------------------------------------------------\n",
            "\u001b[0m\u001b[34m[ 1 ]\u001b[0m\n",
            "Nix won't work in active shell sessions until you restart them.\n",
            "\n",
            "\u001b[34m[ 2 ]\u001b[0m\n",
            "I don't support your init system yet; you may want to add nix-daemon manually.\n",
            "\n",
            "nix-daemon: no process found\n"
          ]
        }
      ],
      "source": [
        "# @title Setup Nix {display-mode: \"form\"}\n",
        "# @markdown <img src=\"https://raw.githubusercontent.com/NixOS/nixos-artwork/master/logo/nix-snowflake.svg\" width=\"32\"/>\n",
        "# @markdown\n",
        "# @markdown Nix is a package manager with an emphasis on reproducible builds,\n",
        "# @markdown and it is the primary method for installing OpenLane 2.\n",
        "# @markdown\n",
        "# @markdown This step installs the Nix package manager and enables the\n",
        "# @markdown experimental \"flakes\" feature.\n",
        "# @markdown\n",
        "# @markdown If you're not in a Colab, this just sets the environment variables.\n",
        "# @markdown You will need to install Nix and enable flakes on your own following\n",
        "# @markdown [this guide](https://openlane2.readthedocs.io/en/stable/getting_started/common/nix_installation/index.html).\n",
        "import os\n",
        "import sys\n",
        "import shutil\n",
        "\n",
        "os.environ[\"LOCALE_ARCHIVE\"] = \"/usr/lib/locale/locale-archive\"\n",
        "\n",
        "if \"google.colab\" in sys.modules:\n",
        "    if shutil.which(\"nix-env\") is None:\n",
        "        !curl -L https://nixos.org/nix/install | bash -s -- --daemon --yes\n",
        "        !echo \"extra-experimental-features = nix-command flakes\" >> /etc/nix/nix.conf\n",
        "        !killall nix-daemon\n",
        "else:\n",
        "    if shutil.which(\"nix-env\") is None:\n",
        "        raise RuntimeError(\"Nix is not installed!\")\n",
        "\n",
        "os.environ[\"PATH\"] = f\"/nix/var/nix/profiles/default/bin/:{os.getenv('PATH')}\""
      ]
    },
    {
      "cell_type": "code",
      "execution_count": 3,
      "metadata": {
        "colab": {
          "base_uri": "https://localhost:8080/",
          "height": 423,
          "referenced_widgets": [
            "a56cf3411e2e4bffa90f521b3f2b578a",
            "1fbcc54b864a42619e376cff954f1e25",
            "0270acc92acc4d628de79ca8791e9312",
            "c7b2c5f6ee5349529a64bd92431ae65e",
            "6e7dcc1d121547fca7c4ee9fcf932ab1",
            "eb40c534a02b4d44a99490acf46e4ba2",
            "b38247265fce4c5fb501c2c1eaa6a33a",
            "56c4e362e5fc4569b47112ebc9b28ff6",
            "f93561a3285f4872a50e7b8abdddbc9f",
            "278217258b33430dabfbd84a4aab22d9",
            "73b7d92d75214f15b81b92c8d1427cfd",
            "d13ee262d1b54be99a7640e625631af0",
            "c4be82fca8184823870f81f85fcaadf8",
            "8053fb65a6e64d7c994644f1ac147eda",
            "bd34d58b25334c0a9f0954e693653f6a",
            "e54ef077032a41279eee8b5c6d83a811",
            "866335fedc2341e0ba035f0fdf66223e",
            "422e6cff021949bd87e8cb904c7427f7",
            "4a6ef2abf15a428eaddb138e5ed7b4c9",
            "c7b487819d544852aeb6f1c1e1131bfa",
            "2f57d9251cc4452da95455acc453f9b6",
            "7e969e432a56481ca3456aac8e33b7ff",
            "8ddd600c6e7347fcadd3891cce44ce5a",
            "25e4cf1495a149d2802b89a1153c450f",
            "dab7023491524d7aa7905ed032e12dc2",
            "785a07a01e5345c5b0b15dc58d8e8c22"
          ]
        },
        "id": "gr_cFti3ymHb",
        "outputId": "2bbe2244-7ee4-4498-e90c-8c4ee558902f"
      },
      "outputs": [
        {
          "output_type": "display_data",
          "data": {
            "text/plain": [
              "<IPython.core.display.HTML object>"
            ],
            "text/html": [
              "<h3>Downloading OpenLane…</a>"
            ]
          },
          "metadata": {}
        },
        {
          "output_type": "stream",
          "name": "stdout",
          "text": [
            "  % Total    % Received % Xferd  Average Speed   Time    Time     Time  Current\n",
            "                                 Dload  Upload   Total   Spent    Left  Speed\n",
            "  0     0    0     0    0     0      0      0 --:--:-- --:--:-- --:--:--     0\n",
            "100 9491k    0 9491k    0     0  10.8M      0 --:--:-- --:--:-- --:--:-- 27.3M\n"
          ]
        },
        {
          "output_type": "display_data",
          "data": {
            "text/plain": [
              "<IPython.core.display.HTML object>"
            ],
            "text/html": [
              "<h3>Downloading OpenLane's dependencies…</a>"
            ]
          },
          "metadata": {}
        },
        {
          "output_type": "display_data",
          "data": {
            "text/plain": [
              "<IPython.core.display.HTML object>"
            ],
            "text/html": [
              "<h3>Downloading Python dependencies using PIP…</a>"
            ]
          },
          "metadata": {}
        },
        {
          "output_type": "display_data",
          "data": {
            "text/plain": [
              "<IPython.core.display.HTML object>"
            ],
            "text/html": [
              "<h3>Downloading PDK…</a>"
            ]
          },
          "metadata": {}
        },
        {
          "output_type": "display_data",
          "data": {
            "text/plain": [
              "Version bdc9412b3e468c102d01b7cf6337be06ec6e9c9a not found locally, attempting to download…\n"
            ],
            "text/html": [
              "<pre style=\"white-space:pre;overflow-x:auto;line-height:normal;font-family:Menlo,'DejaVu Sans Mono',consolas,'Courier New',monospace\">Version bdc9412b3e468c102d01b7cf6337be06ec6e9c9a not found locally, attempting to download…\n",
              "</pre>\n"
            ]
          },
          "metadata": {}
        },
        {
          "output_type": "display_data",
          "data": {
            "text/plain": [
              "Output()"
            ],
            "application/vnd.jupyter.widget-view+json": {
              "version_major": 2,
              "version_minor": 0,
              "model_id": "a56cf3411e2e4bffa90f521b3f2b578a"
            }
          },
          "metadata": {}
        },
        {
          "output_type": "display_data",
          "data": {
            "text/plain": [],
            "text/html": [
              "<pre style=\"white-space:pre;overflow-x:auto;line-height:normal;font-family:Menlo,'DejaVu Sans Mono',consolas,'Courier New',monospace\"></pre>\n"
            ]
          },
          "metadata": {}
        },
        {
          "output_type": "display_data",
          "data": {
            "text/plain": [
              "Output()"
            ],
            "application/vnd.jupyter.widget-view+json": {
              "version_major": 2,
              "version_minor": 0,
              "model_id": "0270acc92acc4d628de79ca8791e9312"
            }
          },
          "metadata": {}
        },
        {
          "output_type": "display_data",
          "data": {
            "text/plain": [],
            "text/html": [
              "<pre style=\"white-space:pre;overflow-x:auto;line-height:normal;font-family:Menlo,'DejaVu Sans Mono',consolas,'Courier New',monospace\"></pre>\n"
            ]
          },
          "metadata": {}
        },
        {
          "output_type": "display_data",
          "data": {
            "text/plain": [
              "Output()"
            ],
            "application/vnd.jupyter.widget-view+json": {
              "version_major": 2,
              "version_minor": 0,
              "model_id": "6e7dcc1d121547fca7c4ee9fcf932ab1"
            }
          },
          "metadata": {}
        },
        {
          "output_type": "display_data",
          "data": {
            "text/plain": [],
            "text/html": [
              "<pre style=\"white-space:pre;overflow-x:auto;line-height:normal;font-family:Menlo,'DejaVu Sans Mono',consolas,'Courier New',monospace\"></pre>\n"
            ]
          },
          "metadata": {}
        },
        {
          "output_type": "display_data",
          "data": {
            "text/plain": [
              "Output()"
            ],
            "application/vnd.jupyter.widget-view+json": {
              "version_major": 2,
              "version_minor": 0,
              "model_id": "b38247265fce4c5fb501c2c1eaa6a33a"
            }
          },
          "metadata": {}
        },
        {
          "output_type": "display_data",
          "data": {
            "text/plain": [],
            "text/html": [
              "<pre style=\"white-space:pre;overflow-x:auto;line-height:normal;font-family:Menlo,'DejaVu Sans Mono',consolas,'Courier New',monospace\"></pre>\n"
            ]
          },
          "metadata": {}
        },
        {
          "output_type": "display_data",
          "data": {
            "text/plain": [
              "Output()"
            ],
            "application/vnd.jupyter.widget-view+json": {
              "version_major": 2,
              "version_minor": 0,
              "model_id": "f93561a3285f4872a50e7b8abdddbc9f"
            }
          },
          "metadata": {}
        },
        {
          "output_type": "display_data",
          "data": {
            "text/plain": [],
            "text/html": [
              "<pre style=\"white-space:pre;overflow-x:auto;line-height:normal;font-family:Menlo,'DejaVu Sans Mono',consolas,'Courier New',monospace\"></pre>\n"
            ]
          },
          "metadata": {}
        },
        {
          "output_type": "display_data",
          "data": {
            "text/plain": [
              "Output()"
            ],
            "application/vnd.jupyter.widget-view+json": {
              "version_major": 2,
              "version_minor": 0,
              "model_id": "73b7d92d75214f15b81b92c8d1427cfd"
            }
          },
          "metadata": {}
        },
        {
          "output_type": "display_data",
          "data": {
            "text/plain": [],
            "text/html": [
              "<pre style=\"white-space:pre;overflow-x:auto;line-height:normal;font-family:Menlo,'DejaVu Sans Mono',consolas,'Courier New',monospace\"></pre>\n"
            ]
          },
          "metadata": {}
        },
        {
          "output_type": "display_data",
          "data": {
            "text/plain": [
              "Output()"
            ],
            "application/vnd.jupyter.widget-view+json": {
              "version_major": 2,
              "version_minor": 0,
              "model_id": "c4be82fca8184823870f81f85fcaadf8"
            }
          },
          "metadata": {}
        },
        {
          "output_type": "display_data",
          "data": {
            "text/plain": [],
            "text/html": [
              "<pre style=\"white-space:pre;overflow-x:auto;line-height:normal;font-family:Menlo,'DejaVu Sans Mono',consolas,'Courier New',monospace\"></pre>\n"
            ]
          },
          "metadata": {}
        },
        {
          "output_type": "display_data",
          "data": {
            "text/plain": [
              "Output()"
            ],
            "application/vnd.jupyter.widget-view+json": {
              "version_major": 2,
              "version_minor": 0,
              "model_id": "bd34d58b25334c0a9f0954e693653f6a"
            }
          },
          "metadata": {}
        },
        {
          "output_type": "display_data",
          "data": {
            "text/plain": [],
            "text/html": [
              "<pre style=\"white-space:pre;overflow-x:auto;line-height:normal;font-family:Menlo,'DejaVu Sans Mono',consolas,'Courier New',monospace\"></pre>\n"
            ]
          },
          "metadata": {}
        },
        {
          "output_type": "display_data",
          "data": {
            "text/plain": [
              "Output()"
            ],
            "application/vnd.jupyter.widget-view+json": {
              "version_major": 2,
              "version_minor": 0,
              "model_id": "866335fedc2341e0ba035f0fdf66223e"
            }
          },
          "metadata": {}
        },
        {
          "output_type": "display_data",
          "data": {
            "text/plain": [],
            "text/html": [
              "<pre style=\"white-space:pre;overflow-x:auto;line-height:normal;font-family:Menlo,'DejaVu Sans Mono',consolas,'Courier New',monospace\"></pre>\n"
            ]
          },
          "metadata": {}
        },
        {
          "output_type": "display_data",
          "data": {
            "text/plain": [
              "Output()"
            ],
            "application/vnd.jupyter.widget-view+json": {
              "version_major": 2,
              "version_minor": 0,
              "model_id": "4a6ef2abf15a428eaddb138e5ed7b4c9"
            }
          },
          "metadata": {}
        },
        {
          "output_type": "display_data",
          "data": {
            "text/plain": [],
            "text/html": [
              "<pre style=\"white-space:pre;overflow-x:auto;line-height:normal;font-family:Menlo,'DejaVu Sans Mono',consolas,'Courier New',monospace\"></pre>\n"
            ]
          },
          "metadata": {}
        },
        {
          "output_type": "display_data",
          "data": {
            "text/plain": [
              "Output()"
            ],
            "application/vnd.jupyter.widget-view+json": {
              "version_major": 2,
              "version_minor": 0,
              "model_id": "2f57d9251cc4452da95455acc453f9b6"
            }
          },
          "metadata": {}
        },
        {
          "output_type": "display_data",
          "data": {
            "text/plain": [],
            "text/html": [
              "<pre style=\"white-space:pre;overflow-x:auto;line-height:normal;font-family:Menlo,'DejaVu Sans Mono',consolas,'Courier New',monospace\"></pre>\n"
            ]
          },
          "metadata": {}
        },
        {
          "output_type": "display_data",
          "data": {
            "text/plain": [],
            "text/html": [
              "<pre style=\"white-space:pre;overflow-x:auto;line-height:normal;font-family:Menlo,'DejaVu Sans Mono',consolas,'Courier New',monospace\"></pre>\n"
            ]
          },
          "metadata": {}
        },
        {
          "output_type": "display_data",
          "data": {
            "text/plain": [
              "Output()"
            ],
            "application/vnd.jupyter.widget-view+json": {
              "version_major": 2,
              "version_minor": 0,
              "model_id": "8ddd600c6e7347fcadd3891cce44ce5a"
            }
          },
          "metadata": {}
        },
        {
          "output_type": "display_data",
          "data": {
            "text/plain": [],
            "text/html": [
              "<pre style=\"white-space:pre;overflow-x:auto;line-height:normal;font-family:Menlo,'DejaVu Sans Mono',consolas,'Courier New',monospace\"></pre>\n"
            ]
          },
          "metadata": {}
        },
        {
          "output_type": "display_data",
          "data": {
            "text/plain": [
              "Output()"
            ],
            "application/vnd.jupyter.widget-view+json": {
              "version_major": 2,
              "version_minor": 0,
              "model_id": "dab7023491524d7aa7905ed032e12dc2"
            }
          },
          "metadata": {}
        },
        {
          "output_type": "display_data",
          "data": {
            "text/plain": [],
            "text/html": [
              "<pre style=\"white-space:pre;overflow-x:auto;line-height:normal;font-family:Menlo,'DejaVu Sans Mono',consolas,'Courier New',monospace\"></pre>\n"
            ]
          },
          "metadata": {}
        },
        {
          "output_type": "display_data",
          "data": {
            "text/plain": [],
            "text/html": [
              "<pre style=\"white-space:pre;overflow-x:auto;line-height:normal;font-family:Menlo,'DejaVu Sans Mono',consolas,'Courier New',monospace\"></pre>\n"
            ]
          },
          "metadata": {}
        },
        {
          "output_type": "display_data",
          "data": {
            "text/plain": [
              "Version bdc9412b3e468c102d01b7cf6337be06ec6e9c9a enabled for the sky130 PDK.\n"
            ],
            "text/html": [
              "<pre style=\"white-space:pre;overflow-x:auto;line-height:normal;font-family:Menlo,'DejaVu Sans Mono',consolas,'Courier New',monospace\">Version bdc9412b3e468c102d01b7cf6337be06ec6e9c9a enabled for the sky130 PDK.\n",
              "</pre>\n"
            ]
          },
          "metadata": {}
        },
        {
          "output_type": "display_data",
          "data": {
            "text/plain": [
              "<IPython.core.display.HTML object>"
            ],
            "text/html": [
              "<h3>⭕️ Done.</a>"
            ]
          },
          "metadata": {}
        }
      ],
      "source": [
        "# @title Get OpenLane {display-mode: \"form\"}\n",
        "# @markdown Click the ▷ button to download and install OpenLane.\n",
        "# @markdown\n",
        "# @markdown This will install OpenLane's tool dependencies using Nix,\n",
        "# @markdown and OpenLane itself using PIP.\n",
        "# @markdown\n",
        "# @markdown Note that `python3-tk` may need to be installed using your OS's\n",
        "# @markdown package manager.\n",
        "import os\n",
        "import subprocess\n",
        "import IPython\n",
        "\n",
        "openlane_version = \"version-2.1\"  # @param {key:\"OpenLane Version\", type:\"string\"}\n",
        "\n",
        "if openlane_version == \"latest\":\n",
        "    openlane_version = \"main\"\n",
        "\n",
        "pdk_root = \"~/.volare\"  # @param {key:\"PDK Root\", type:\"string\"}\n",
        "\n",
        "pdk_root = os.path.expanduser(pdk_root)\n",
        "\n",
        "pdk = \"sky130\"  # @param {key:\"PDK (without the variant)\", type:\"string\"}\n",
        "\n",
        "openlane_ipynb_path = os.path.join(os.getcwd(), \"openlane_ipynb\")\n",
        "\n",
        "display(IPython.display.HTML(\"<h3>Downloading OpenLane…</a>\"))\n",
        "\n",
        "\n",
        "TESTING_LOCALLY = False\n",
        "!rm -rf {openlane_ipynb_path}\n",
        "!mkdir -p {openlane_ipynb_path}\n",
        "if TESTING_LOCALLY:\n",
        "    !ln -s {os.getcwd()} {openlane_ipynb_path}\n",
        "else:\n",
        "    !curl -L \"https://github.com/efabless/openlane2/tarball/{openlane_version}\" | tar -xzC {openlane_ipynb_path} --strip-components 1\n",
        "\n",
        "try:\n",
        "    import tkinter\n",
        "except ImportError:\n",
        "    if \"google.colab\" in sys.modules:\n",
        "        !sudo apt-get install python-tk\n",
        "\n",
        "try:\n",
        "    import tkinter\n",
        "except ImportError as e:\n",
        "    display(\n",
        "        IPython.display.HTML(\n",
        "            '<h3 style=\"color: #800020\";>❌ Failed to import the <code>tkinter</code> library for Python, which is required to load PDK configuration values. Make sure <code>python3-tk</code> or equivalent is installed on your system.</a>'\n",
        "        )\n",
        "    )\n",
        "    raise e from None\n",
        "\n",
        "\n",
        "display(IPython.display.HTML(\"<h3>Downloading OpenLane's dependencies…</a>\"))\n",
        "try:\n",
        "    subprocess.check_call(\n",
        "        [\"nix\", \"profile\", \"install\", \".#colab-env\", \"--accept-flake-config\"],\n",
        "        cwd=openlane_ipynb_path,\n",
        "    )\n",
        "except subprocess.CalledProcessError as e:\n",
        "    display(\n",
        "        IPython.display.HTML(\n",
        "            '<h3 style=\"color: #800020\";>❌ Failed to install binary dependencies using Nix…</h3>'\n",
        "        )\n",
        "    )\n",
        "\n",
        "display(IPython.display.HTML(\"<h3>Downloading Python dependencies using PIP…</a>\"))\n",
        "try:\n",
        "    subprocess.check_call(\n",
        "        [\"pip3\", \"install\", \".\"],\n",
        "        cwd=openlane_ipynb_path,\n",
        "    )\n",
        "except subprocess.CalledProcessError as e:\n",
        "    display(\n",
        "        IPython.display.HTML(\n",
        "            '<h3 style=\"color: #800020\";>❌ Failed to install Python dependencies using PIP…</h3>'\n",
        "        )\n",
        "    )\n",
        "    raise e from None\n",
        "\n",
        "display(IPython.display.HTML(\"<h3>Downloading PDK…</a>\"))\n",
        "import volare\n",
        "\n",
        "volare.enable(\n",
        "    volare.get_volare_home(pdk_root),\n",
        "    pdk,\n",
        "    open(\n",
        "        os.path.join(openlane_ipynb_path, \"openlane\", \"open_pdks_rev\"),\n",
        "        encoding=\"utf8\",\n",
        "    )\n",
        "    .read()\n",
        "    .strip(),\n",
        ")\n",
        "\n",
        "sys.path.insert(0, openlane_ipynb_path)\n",
        "display(IPython.display.HTML(\"<h3>⭕️ Done.</a>\"))\n",
        "\n",
        "import logging\n",
        "\n",
        "# Remove the stupid default colab logging handler\n",
        "logging.getLogger().handlers.clear()"
      ]
    },
    {
      "cell_type": "code",
      "execution_count": 1,
      "metadata": {
        "colab": {
          "base_uri": "https://localhost:8080/",
          "height": 344
        },
        "id": "jj2fFYZtymHb",
        "outputId": "bbe85dfb-0ea0-4108-87f8-1034d79044d0"
      },
      "outputs": [
        {
          "output_type": "error",
          "ename": "ModuleNotFoundError",
          "evalue": "No module named 'openlane'",
          "traceback": [
            "\u001b[0;31m---------------------------------------------------------------------------\u001b[0m",
            "\u001b[0;31mModuleNotFoundError\u001b[0m                       Traceback (most recent call last)",
            "\u001b[0;32m/tmp/ipython-input-1-345202425.py\u001b[0m in \u001b[0;36m<cell line: 0>\u001b[0;34m()\u001b[0m\n\u001b[0;32m----> 1\u001b[0;31m \u001b[0;32mimport\u001b[0m \u001b[0mopenlane\u001b[0m\u001b[0;34m\u001b[0m\u001b[0;34m\u001b[0m\u001b[0m\n\u001b[0m\u001b[1;32m      2\u001b[0m \u001b[0;34m\u001b[0m\u001b[0m\n\u001b[1;32m      3\u001b[0m \u001b[0mprint\u001b[0m\u001b[0;34m(\u001b[0m\u001b[0mopenlane\u001b[0m\u001b[0;34m.\u001b[0m\u001b[0m__version__\u001b[0m\u001b[0;34m)\u001b[0m\u001b[0;34m\u001b[0m\u001b[0;34m\u001b[0m\u001b[0m\n",
            "\u001b[0;31mModuleNotFoundError\u001b[0m: No module named 'openlane'",
            "",
            "\u001b[0;31m---------------------------------------------------------------------------\u001b[0;32m\nNOTE: If your import is failing due to a missing package, you can\nmanually install dependencies using either !pip or !apt.\n\nTo view examples of installing some common dependencies, click the\n\"Open Examples\" button below.\n\u001b[0;31m---------------------------------------------------------------------------\u001b[0m\n"
          ],
          "errorDetails": {
            "actions": [
              {
                "action": "open_url",
                "actionText": "Open Examples",
                "url": "/notebooks/snippets/importing_libraries.ipynb"
              }
            ]
          }
        }
      ],
      "source": [
        "import openlane\n",
        "\n",
        "print(openlane.__version__)"
      ]
    },
    {
      "cell_type": "markdown",
      "metadata": {
        "id": "xhkOTUcqymHb"
      },
      "source": [
        "### Creating the design\n",
        "\n",
        "Now that OpenLane is set up, we can write a Verilog file as follows:"
      ]
    },
    {
      "cell_type": "code",
      "execution_count": null,
      "metadata": {
        "id": "hyxnLONyymHc"
      },
      "outputs": [],
      "source": [
        "%%writefile spm.v\n",
        "module spm(clk, rst, x, y, p);\n",
        "    parameter size = 32;\n",
        "    input clk, rst;\n",
        "    input y;\n",
        "    input[size-1:0] x;\n",
        "    output p;\n",
        "\n",
        "    wire[size-1:1] pp;\n",
        "    wire[size-1:0] xy;\n",
        "\n",
        "    genvar i;\n",
        "\n",
        "    CSADD csa0 (.clk(clk), .rst(rst), .x(x[0]&y), .y(pp[1]), .sum(p));\n",
        "    generate for(i=1; i<size-1; i=i+1) begin\n",
        "        CSADD csa (.clk(clk), .rst(rst), .x(x[i]&y), .y(pp[i+1]), .sum(pp[i]));\n",
        "    end endgenerate\n",
        "    TCMP tcmp (.clk(clk), .rst(rst), .a(x[size-1]&y), .s(pp[size-1]));\n",
        "\n",
        "endmodule\n",
        "\n",
        "module TCMP(clk, rst, a, s);\n",
        "    input clk, rst;\n",
        "    input a;\n",
        "    output reg s;\n",
        "\n",
        "    reg z;\n",
        "\n",
        "    always @(posedge clk or posedge rst) begin\n",
        "        if (rst) begin\n",
        "            //Reset logic goes here.\n",
        "            s <= 1'b0;\n",
        "            z <= 1'b0;\n",
        "        end\n",
        "        else begin\n",
        "            //Sequential logic goes here.\n",
        "            z <= a | z;\n",
        "            s <= a ^ z;\n",
        "        end\n",
        "    end\n",
        "endmodule\n",
        "\n",
        "module CSADD(clk, rst, x, y, sum);\n",
        "    input clk, rst;\n",
        "    input x, y;\n",
        "    output reg sum;\n",
        "\n",
        "    reg sc;\n",
        "\n",
        "    // Half Adders logic\n",
        "    wire hsum1, hco1;\n",
        "    assign hsum1 = y ^ sc;\n",
        "    assign hco1 = y & sc;\n",
        "\n",
        "    wire hsum2, hco2;\n",
        "    assign hsum2 = x ^ hsum1;\n",
        "    assign hco2 = x & hsum1;\n",
        "\n",
        "    always @(posedge clk or posedge rst) begin\n",
        "        if (rst) begin\n",
        "            //Reset logic goes here.\n",
        "            sum <= 1'b0;\n",
        "            sc <= 1'b0;\n",
        "        end\n",
        "        else begin\n",
        "            //Sequential logic goes here.\n",
        "            sum <= hsum2;\n",
        "            sc <= hco1 ^ hco2;\n",
        "        end\n",
        "    end\n",
        "endmodule"
      ]
    },
    {
      "cell_type": "code",
      "source": [
        "%%writefile counter.v\n",
        "module counter_32bit (\n",
        "    input wire clk,         // Clock input\n",
        "    input wire reset_n,     // Active-low asynchronous reset\n",
        "    input wire enable,      // Counter enable\n",
        "    output reg [31:0] count // 32-bit output count\n",
        ");\n",
        "\n",
        "    // Internal register to hold the count value\n",
        "    // 'reg' is used because its value is assigned within an always block\n",
        "    // [31:0] defines a 32-bit wide register\n",
        "\n",
        "    // Always block sensitive to the positive edge of the clock or negative edge of reset_n\n",
        "    always @(posedge clk or negedge reset_n) begin\n",
        "        if (!reset_n) begin // Asynchronous reset (active-low)\n",
        "            count <= 32'd0; // Reset count to 0. 32'd0 means a 32-bit decimal 0.\n",
        "        end else if (enable) begin // Count only when enable is high\n",
        "            count <= count + 1; // Increment the counter\n",
        "        end\n",
        "    end\n",
        "\n",
        "endmodule"
      ],
      "metadata": {
        "id": "LKH2NalI2nSJ"
      },
      "execution_count": null,
      "outputs": []
    },
    {
      "cell_type": "markdown",
      "metadata": {
        "id": "Ko4pxeMNymHc"
      },
      "source": [
        "### Setting up the configuration\n",
        "\n",
        "OpenLane requries you to configure any Flow before using it. This is done using\n",
        "the `config` module.\n",
        "\n",
        "For colaboratories, REPLs and other interactive environments where there is no\n",
        "concrete Flow object, the Configuration may be initialized using `Config.interactive`,\n",
        "which will automatically propagate the configuration to any future steps.\n",
        "\n",
        "You can find the documentation for `Config.interactive` [here](https://openlane2.readthedocs.io/en/latest/reference/api/config/index.html#openlane.config.Config.interactive).\n",
        "\n"
      ]
    },
    {
      "cell_type": "code",
      "execution_count": null,
      "metadata": {
        "id": "Nn7vT-noymHc"
      },
      "outputs": [],
      "source": [
        "from openlane.config import Config\n",
        "\n",
        "Config.interactive(\n",
        "    \"inverter\",\n",
        "    PDK=\"sky130A\",\n",
        "    CLOCK_PORT=\"clk\",\n",
        "    CLOCK_NET=\"clk\",\n",
        "    CLOCK_PERIOD=10,\n",
        "    PRIMARY_GDSII_STREAMOUT_TOOL=\"klayout\",\n",
        ")"
      ]
    },
    {
      "cell_type": "markdown",
      "metadata": {
        "id": "QjBKWE-PymHc"
      },
      "source": [
        "### Running implementation steps\n",
        "\n",
        "There are two ways to obtain OpenLane's built-in implementation steps:\n",
        "\n",
        "* via directly importing from the `steps` module using its category:\n",
        "    * `from openlane.steps import Yosys` then `Synthesis = Yosys.Synthesis`\n",
        "* by using the step's id from the registry:\n",
        "    * `from openlane.steps import Step` then `Synthesis = Step.factory.get(\"Yosys.Synthesis\")`\n",
        "\n",
        "You can find a full list of included steps here: https://openlane2.readthedocs.io/en/latest/reference/step_config_vars.html"
      ]
    },
    {
      "cell_type": "code",
      "execution_count": null,
      "metadata": {
        "id": "nmL61H6oymHc"
      },
      "outputs": [],
      "source": [
        "from openlane.steps import Step"
      ]
    },
    {
      "cell_type": "markdown",
      "metadata": {
        "id": "V4eQxd94ymHc"
      },
      "source": [
        "* First, get the step (and display its help)..."
      ]
    },
    {
      "cell_type": "code",
      "execution_count": null,
      "metadata": {
        "id": "aQdRPpEbymHc"
      },
      "outputs": [],
      "source": [
        "Synthesis = Step.factory.get(\"Yosys.Synthesis\")\n",
        "\n",
        "Synthesis.display_help()"
      ]
    },
    {
      "cell_type": "markdown",
      "metadata": {
        "id": "IGMmexp6ymHc"
      },
      "source": [
        "* Then run it. Note you can pass step-specific configs using Python keyword\n",
        "  arguments."
      ]
    },
    {
      "cell_type": "markdown",
      "metadata": {
        "id": "0FdIC7gPymHc"
      },
      "source": [
        "### Synthesis\n",
        "\n",
        "We need to start by converting our high-level Verilog to one that just shows\n",
        "the connections between small silicon patterns called \"standard cells\" in process\n",
        "called Synthesis. We can do this by passing the Verilog files as a configuration\n",
        "variable to `Yosys.Synthesis` as follows, then running it.\n",
        "\n",
        "As this is the first step, we need to create an empty state and pass it to it."
      ]
    },
    {
      "cell_type": "code",
      "execution_count": null,
      "metadata": {
        "scrolled": true,
        "id": "43bKFdRjymHc"
      },
      "outputs": [],
      "source": [
        "from openlane.state import State\n",
        "\n",
        "synthesis = Synthesis(\n",
        "    VERILOG_FILES=[\"./inverter.v\"],\n",
        "    state_in=State(),\n",
        ")\n",
        "synthesis.start()"
      ]
    },
    {
      "cell_type": "code",
      "execution_count": null,
      "metadata": {
        "id": "nz8LygDgymHd"
      },
      "outputs": [],
      "source": [
        "display(synthesis)"
      ]
    },
    {
      "cell_type": "markdown",
      "metadata": {
        "id": "FBpAdF_kymHd"
      },
      "source": [
        "### Floorplanning\n",
        "\n",
        "Floorplanning does two things:\n",
        "\n",
        "* Determines the dimensions of the final chip.\n",
        "* Creates the \"cell placement grid\" which placed cells must be aligned to.\n",
        "    * Each cell in the grid is called a \"site.\" Cells can occupy multiple\n",
        "      sites, with the overwhelming majority of cells occupying multiple sites\n",
        "      by width, and some standard cell libraries supporting varying heights as well.\n",
        "\n",
        "> Don't forget- you may call `display_help()` on any Step class to get a full\n",
        "> list of configuration variables.\n",
        ""
      ]
    },
    {
      "cell_type": "code",
      "execution_count": null,
      "metadata": {
        "id": "T4D8zNoAymHd"
      },
      "outputs": [],
      "source": [
        "Floorplan = Step.factory.get(\"OpenROAD.Floorplan\")\n",
        "\n",
        "floorplan = Floorplan(state_in=synthesis.state_out)\n",
        "floorplan.start()"
      ]
    },
    {
      "cell_type": "code",
      "execution_count": null,
      "metadata": {
        "id": "neWbS4_CymHd"
      },
      "outputs": [],
      "source": [
        "display(floorplan)"
      ]
    },
    {
      "cell_type": "markdown",
      "metadata": {
        "id": "eMcsNlAZymHd"
      },
      "source": [
        "### Tap/Endcap Cell Insertion\n",
        "\n",
        "This places two kinds of cells on the floorplan:\n",
        "\n",
        "* End cap/boundary cells: Added at the beginning and end of each row. True to\n",
        "  their name, they \"cap off\" the core area of a design.\n",
        "* Tap cells: Placed in a polka dot-ish fashion across the rows. Tap cells\n",
        "  connect VDD to the nwell and the psubstrate to VSS, which the majority of cells\n",
        "  do not do themselves to save area- but if you go long enough without one such\n",
        "  connection you end up with the cell \"latching-up\"; i.e.; refusing to switch\n",
        "  back to LO from HI.\n",
        "\n",
        "  There is a maximum distance between tap cells enforced as part of every\n",
        "  foundry process."
      ]
    },
    {
      "cell_type": "code",
      "execution_count": null,
      "metadata": {
        "id": "Gm2X3wvzymHd"
      },
      "outputs": [],
      "source": [
        "TapEndcapInsertion = Step.factory.get(\"OpenROAD.TapEndcapInsertion\")\n",
        "\n",
        "tdi = TapEndcapInsertion(state_in=floorplan.state_out)\n",
        "tdi.start()"
      ]
    },
    {
      "cell_type": "code",
      "execution_count": null,
      "metadata": {
        "id": "JtwMwtQbymHd"
      },
      "outputs": [],
      "source": [
        "display(tdi)"
      ]
    },
    {
      "cell_type": "markdown",
      "metadata": {
        "id": "QLRl9yRRymHd"
      },
      "source": [
        "### I/O Placement\n",
        "\n",
        "This places metal pins at the edges of the design corresponding to the top level\n",
        "inputs and outputs for your design. These pins act as the interface with other\n",
        "designs when you integrate it with other designs."
      ]
    },
    {
      "cell_type": "code",
      "execution_count": null,
      "metadata": {
        "scrolled": true,
        "id": "Pf5BhsOKymHd"
      },
      "outputs": [],
      "source": [
        "IOPlacement = Step.factory.get(\"OpenROAD.IOPlacement\")\n",
        "\n",
        "ioplace = IOPlacement(state_in=tdi.state_out)\n",
        "ioplace.start()"
      ]
    },
    {
      "cell_type": "code",
      "execution_count": null,
      "metadata": {
        "id": "xBzbr1ciymHd"
      },
      "outputs": [],
      "source": [
        "display(ioplace)"
      ]
    },
    {
      "cell_type": "markdown",
      "metadata": {
        "id": "LICP8Z3ZymHd"
      },
      "source": [
        "### Generating the Power Distribution Network (PDN)\n",
        "\n",
        "This creates the power distribution network for your design, which is essentially\n",
        "a plaid pattern of horizontal and vertical \"straps\" across the design that is\n",
        "then connected to the rails' VDD and VSS (via the tap cells.)\n",
        "\n",
        "You can find an explanation of how the power distribution network works at this\n",
        "link: https://openlane2.readthedocs.io/en/latest/usage/hardening_macros.html#pdn-generation\n",
        "\n",
        "While we typically don't need to mess with the PDN too much, the SPM is a small\n",
        "design, so we're going to need to make the plaid pattern formed by the PDN a bit\n",
        "smaller."
      ]
    },
    {
      "cell_type": "code",
      "execution_count": null,
      "metadata": {
        "scrolled": true,
        "id": "G7YoQ-3xymHd"
      },
      "outputs": [],
      "source": [
        "GeneratePDN = Step.factory.get(\"OpenROAD.GeneratePDN\")\n",
        "\n",
        "pdn = GeneratePDN(\n",
        "    state_in=ioplace.state_out,\n",
        "    FP_PDN_VWIDTH=2,\n",
        "    FP_PDN_HWIDTH=2,\n",
        "    FP_PDN_VPITCH=10,\n",
        "    FP_PDN_HPITCH=10,\n",
        ")\n",
        "pdn.start()"
      ]
    },
    {
      "cell_type": "code",
      "execution_count": null,
      "metadata": {
        "id": "J3mOgRYyymHd"
      },
      "outputs": [],
      "source": [
        "display(pdn)"
      ]
    },
    {
      "cell_type": "markdown",
      "metadata": {
        "id": "k_FQ0y6lymHd"
      },
      "source": [
        "### Global Placement\n",
        "\n",
        "Global Placement is deciding on a fuzzy, non-final location for each of the cells,\n",
        "with the aim of minimizing the distance between cells that are connected\n",
        "together (more specifically, the total length of the not-yet-created wires that\n",
        "will connect them).\n",
        "\n",
        "As you will see in the `.display()` in the second cell below, the placement is\n",
        "considered \"illegal\", i.e., not properly aligned with the cell placement grid.\n",
        "This is addressed by \"Detailed Placement\", also referred to as \"placement\n",
        "legalization\", which is the next step."
      ]
    },
    {
      "cell_type": "code",
      "execution_count": null,
      "metadata": {
        "id": "qppHmiUQymHe"
      },
      "outputs": [],
      "source": [
        "GlobalPlacement = Step.factory.get(\"OpenROAD.GlobalPlacement\")\n",
        "\n",
        "gpl = GlobalPlacement(state_in=pdn.state_out)\n",
        "gpl.start()"
      ]
    },
    {
      "cell_type": "code",
      "execution_count": null,
      "metadata": {
        "id": "DSJigXPtymHe"
      },
      "outputs": [],
      "source": [
        "display(gpl)"
      ]
    },
    {
      "cell_type": "markdown",
      "metadata": {
        "id": "S3LGho1_ymHe"
      },
      "source": [
        "### Detailed Placement\n",
        "\n",
        "This aligns the fuzzy placement from before with the grid, \"legalizing\" it."
      ]
    },
    {
      "cell_type": "code",
      "execution_count": null,
      "metadata": {
        "id": "18XnEPsaymHe"
      },
      "outputs": [],
      "source": [
        "DetailedPlacement = Step.factory.get(\"OpenROAD.DetailedPlacement\")\n",
        "\n",
        "dpl = DetailedPlacement(state_in=gpl.state_out)\n",
        "dpl.start()"
      ]
    },
    {
      "cell_type": "code",
      "execution_count": null,
      "metadata": {
        "id": "JYv15B0pymHe"
      },
      "outputs": [],
      "source": [
        "display(dpl)"
      ]
    },
    {
      "cell_type": "markdown",
      "metadata": {
        "id": "DhA5woT_ymHe"
      },
      "source": [
        "### Clock Tree Synthesis (CTS)\n",
        "\n",
        "With the cells now having a final placement, we can go ahead and create what\n",
        "is known as the clock tree, i.e., the hierarchical set of buffers used\n",
        "for clock signal to minimize what is known as \"clock skew\"- variable delay\n",
        "of the clock cycle from register to register because of factors such as metal\n",
        "wire length, clock load (number of gates connected to the same clock buffer,)\n",
        "et cetera.\n",
        "\n",
        "The CTS step creates the cells and places the between the gaps in the detailed\n",
        "placement above."
      ]
    },
    {
      "cell_type": "code",
      "execution_count": null,
      "metadata": {
        "id": "nnHG7ENiymHe"
      },
      "outputs": [],
      "source": [
        "CTS = Step.factory.get(\"OpenROAD.CTS\")\n",
        "\n",
        "cts = CTS(state_in=dpl.state_out)\n",
        "cts.start()"
      ]
    },
    {
      "cell_type": "code",
      "execution_count": null,
      "metadata": {
        "id": "EwsPj-N7ymHe"
      },
      "outputs": [],
      "source": [
        "display(cts)"
      ]
    },
    {
      "cell_type": "markdown",
      "metadata": {
        "id": "-i08yM-fymHe"
      },
      "source": [
        "### Global Routing\n",
        "\n",
        "Global routing \"plans\" the routes the wires between two gates (or gates and\n",
        "I/O pins/the PDN) will take. The results of global routing (which are called\n",
        "\"routing guides\") are stored in internal data structures and have no effect on\n",
        "the actual design, so there is no `display()` statement."
      ]
    },
    {
      "cell_type": "code",
      "execution_count": null,
      "metadata": {
        "id": "vGrBb_DVymHf"
      },
      "outputs": [],
      "source": [
        "GlobalRouting = Step.factory.get(\"OpenROAD.GlobalRouting\")\n",
        "\n",
        "grt = GlobalRouting(state_in=cts.state_out)\n",
        "grt.start()"
      ]
    },
    {
      "cell_type": "markdown",
      "metadata": {
        "id": "SM40yS2dymHf"
      },
      "source": [
        "### Detailed Routing\n",
        "\n",
        "Detailed routing uses the guides from Global Routing to actually create wires\n",
        "on the metal layers and connect the gates, making the connections finally physical.\n",
        "\n",
        "This is typically the longest step in the flow."
      ]
    },
    {
      "cell_type": "code",
      "execution_count": null,
      "metadata": {
        "id": "IqRM0m5oymHf"
      },
      "outputs": [],
      "source": [
        "DetailedRouting = Step.factory.get(\"OpenROAD.DetailedRouting\")\n",
        "\n",
        "drt = DetailedRouting(state_in=grt.state_out)\n",
        "drt.start()"
      ]
    },
    {
      "cell_type": "code",
      "execution_count": null,
      "metadata": {
        "id": "tU6WOYfQymHf"
      },
      "outputs": [],
      "source": [
        "display(drt)"
      ]
    },
    {
      "cell_type": "markdown",
      "metadata": {
        "id": "kaw6HMqvymHf"
      },
      "source": [
        "### Fill Insertion\n",
        "\n",
        "Finally, as we're done placing all the essential cells, the only thing left to\n",
        "do is fill in the gaps.\n",
        "\n",
        "We prioritize the use of decap (decoupling capacitor) cells, which\n",
        "further supports the power distribution network, but when there aren't any\n",
        "small enough cells, we just use regular fill cells."
      ]
    },
    {
      "cell_type": "code",
      "execution_count": null,
      "metadata": {
        "id": "edi2XZqqymHf"
      },
      "outputs": [],
      "source": [
        "FillInsertion = Step.factory.get(\"OpenROAD.FillInsertion\")\n",
        "\n",
        "fill = FillInsertion(state_in=drt.state_out)\n",
        "fill.start()"
      ]
    },
    {
      "cell_type": "code",
      "execution_count": null,
      "metadata": {
        "id": "VHGBfwNuymHf"
      },
      "outputs": [],
      "source": [
        "display(fill)"
      ]
    },
    {
      "cell_type": "markdown",
      "metadata": {
        "id": "Y43iUt9bymHf"
      },
      "source": [
        "### Parasitics Extraction a.k.a. Resistance/Capacitance Extraction (RCX)\n",
        "\n",
        "This step does not alter the design- rather, it computes the\n",
        "[Parasitic elements](https://en.wikipedia.org/wiki/Parasitic_element_(electrical_networks))\n",
        "of the circuit, which have an effect of timing, as we prepare to do the final\n",
        "timing analysis.\n",
        "\n",
        "The parasitic elements are saved in the **Standard Parasitics Exchange Format**,\n",
        "or SPEF. OpenLane creates a SPEF file for each interconnect corner as described in\n",
        "the [Corners and STA](https://openlane2.readthedocs.io/en/latest/usage/corners_and_sta.html)\n",
        "section of the documentation."
      ]
    },
    {
      "cell_type": "code",
      "execution_count": null,
      "metadata": {
        "id": "SjefwmCGymHf"
      },
      "outputs": [],
      "source": [
        "RCX = Step.factory.get(\"OpenROAD.RCX\")\n",
        "\n",
        "rcx = RCX(state_in=fill.state_out)\n",
        "rcx.start()"
      ]
    },
    {
      "cell_type": "markdown",
      "metadata": {
        "id": "3WKwnGQQymHf"
      },
      "source": [
        "### Static Timing Analysis (Post-PnR)\n",
        "\n",
        "STA is a process that verifies that a chip meets certain constraints on clock\n",
        "and data timings to run at its rated clock speed. See [Corners and STA](https://openlane2.readthedocs.io/en/latest/usage/corners_and_sta.html)\n",
        "in the documentation for more info.\n",
        "\n",
        "---\n",
        "\n",
        "This step generates two kinds of files:\n",
        "* `.lib`: Liberty™-compatible Library files. Can be used to do static timing\n",
        "  analysis when creating a design with this design as a sub-macro.\n",
        "* `.sdf`: Standard Delay Format. Can be used with certain simulation software\n",
        "  to do *dynamic* timing analysis.\n",
        "\n",
        "Unfortunately, the `.lib` files coming out of OpenLane right now are not super\n",
        "reliable for timing purposes and are only provided for completeness.\n",
        "When using OpenLane-created macros withing other designs, it is best to use the\n",
        "macro's final netlist and extracted parasitics instead."
      ]
    },
    {
      "cell_type": "code",
      "execution_count": null,
      "metadata": {
        "id": "R5zoQhA9ymHf"
      },
      "outputs": [],
      "source": [
        "STAPostPNR = Step.factory.get(\"OpenROAD.STAPostPNR\")\n",
        "\n",
        "sta_post_pnr = STAPostPNR(state_in=rcx.state_out)\n",
        "sta_post_pnr.start()"
      ]
    },
    {
      "cell_type": "markdown",
      "metadata": {
        "id": "eJphY0IcymHf"
      },
      "source": [
        "### Stream-out\n",
        "\n",
        "Stream-out is the process of converting the designs from the abstract formats\n",
        "using during floorplanning, placement and routing into a concrete format called\n",
        "GDSII (lit. Graphic Design System 2), which is the final file that is then sent\n",
        "for fabrication."
      ]
    },
    {
      "cell_type": "code",
      "execution_count": null,
      "metadata": {
        "id": "z9GqnCefymHf"
      },
      "outputs": [],
      "source": [
        "StreamOut = Step.factory.get(\"KLayout.StreamOut\")\n",
        "\n",
        "gds = StreamOut(state_in=sta_post_pnr.state_out)\n",
        "gds.start()"
      ]
    },
    {
      "cell_type": "code",
      "execution_count": null,
      "metadata": {
        "id": "kmtnFv-LymHf"
      },
      "outputs": [],
      "source": [
        "display(gds)"
      ]
    },
    {
      "cell_type": "markdown",
      "metadata": {
        "id": "DIaADEXgymHf"
      },
      "source": [
        "### Design Rule Checks (DRC)\n",
        "\n",
        "DRC determines that the final layout does not violate any of the rules set by\n",
        "the foundry to ensure the design is actually manufacturable- for example,\n",
        "not enough space between two wires, *too much* space between tap cells, and so\n",
        "on.\n",
        "\n",
        "A design not passing DRC will typically be rejected by the foundry, who\n",
        "also run DRC on their side."
      ]
    },
    {
      "cell_type": "code",
      "execution_count": null,
      "metadata": {
        "id": "Tn8HPuNOymHf"
      },
      "outputs": [],
      "source": [
        "DRC = Step.factory.get(\"Magic.DRC\")\n",
        "\n",
        "drc = DRC(state_in=gds.state_out)\n",
        "drc.start()"
      ]
    },
    {
      "cell_type": "markdown",
      "metadata": {
        "id": "5KXr_kfDymHg"
      },
      "source": [
        "### SPICE Extraction for Layout vs. Schematic Check\n",
        "\n",
        "This step tries to reconstruct a SPICE netlist from the GDSII file, so it can\n",
        "later be used for the **Layout vs. Schematic** (LVS) check."
      ]
    },
    {
      "cell_type": "code",
      "execution_count": null,
      "metadata": {
        "id": "tG9pNEdAymHg"
      },
      "outputs": [],
      "source": [
        "SpiceExtraction = Step.factory.get(\"Magic.SpiceExtraction\")\n",
        "\n",
        "spx = SpiceExtraction(state_in=drc.state_out)\n",
        "spx.start()"
      ]
    },
    {
      "cell_type": "markdown",
      "metadata": {
        "id": "U6mJNHspymHg"
      },
      "source": [
        "### Layout vs. Schematic (LVS)\n",
        "\n",
        "A comparison between the final Verilog netlist (from PnR) and the final\n",
        "SPICE netlist (extracted.)\n",
        "\n",
        "This check effectively compares the physically implemented circuit to the final\n",
        "Verilog netlist output by OpenROAD.\n",
        "\n",
        "The idea is, if there are any disconnects, shorts or other mismatches in the\n",
        "physical implementation that do not exist in the logical view of the design,\n",
        "they would be caught at this step.\n",
        "\n",
        "Common issues that result in LVS violations include:\n",
        "* Lack of fill cells or tap cells in the design\n",
        "* Two unrelated signals to be shorted, or a wire to be disconnected (most\n",
        "  commonly seen with misconfigured PDN)\n",
        "\n",
        "Chips with LVS errors are typically dead on arrival."
      ]
    },
    {
      "cell_type": "code",
      "execution_count": null,
      "metadata": {
        "id": "4AKGtObCymHg"
      },
      "outputs": [],
      "source": [
        "LVS = Step.factory.get(\"Netgen.LVS\")\n",
        "\n",
        "lvs = LVS(state_in=spx.state_out)\n",
        "lvs.start()"
      ]
    }
  ],
  "metadata": {
    "kernelspec": {
      "display_name": "Python 3 (ipykernel)",
      "language": "python",
      "name": "python3"
    },
    "language_info": {
      "codemirror_mode": {
        "name": "ipython",
        "version": 3
      },
      "file_extension": ".py",
      "mimetype": "text/x-python",
      "name": "python",
      "nbconvert_exporter": "python",
      "pygments_lexer": "ipython3",
      "version": "3.11.6"
    },
    "vscode": {
      "interpreter": {
        "hash": "259a389b4057ccde35404af821e33afdf5883d9f2d987c370b23bfef9f2c3eb5"
      }
    },
    "colab": {
      "provenance": [],
      "include_colab_link": true
    },
    "widgets": {
      "application/vnd.jupyter.widget-state+json": {
        "a56cf3411e2e4bffa90f521b3f2b578a": {
          "model_module": "@jupyter-widgets/output",
          "model_name": "OutputModel",
          "model_module_version": "1.0.0",
          "state": {
            "_dom_classes": [],
            "_model_module": "@jupyter-widgets/output",
            "_model_module_version": "1.0.0",
            "_model_name": "OutputModel",
            "_view_count": null,
            "_view_module": "@jupyter-widgets/output",
            "_view_module_version": "1.0.0",
            "_view_name": "OutputView",
            "layout": "IPY_MODEL_1fbcc54b864a42619e376cff954f1e25",
            "msg_id": "",
            "outputs": [
              {
                "output_type": "display_data",
                "data": {
                  "text/plain": "Downloading common.tar.zst… \u001b[38;2;249;38;114m━━━━━━━━━━━━━━━━━━━━━━━━━━━━━━━━━━━━━━\u001b[0m\u001b[38;2;249;38;114m╸\u001b[0m\u001b[38;5;237m━\u001b[0m \u001b[35m 97%\u001b[0m \u001b[36m0:00:01\u001b[0m\n",
                  "text/html": "<pre style=\"white-space:pre;overflow-x:auto;line-height:normal;font-family:Menlo,'DejaVu Sans Mono',consolas,'Courier New',monospace\">Downloading common.tar.zst… <span style=\"color: #f92672; text-decoration-color: #f92672\">━━━━━━━━━━━━━━━━━━━━━━━━━━━━━━━━━━━━━━╸</span><span style=\"color: #3a3a3a; text-decoration-color: #3a3a3a\">━</span> <span style=\"color: #800080; text-decoration-color: #800080\"> 97%</span> <span style=\"color: #008080; text-decoration-color: #008080\">0:00:01</span>\n</pre>\n"
                },
                "metadata": {}
              }
            ]
          }
        },
        "1fbcc54b864a42619e376cff954f1e25": {
          "model_module": "@jupyter-widgets/base",
          "model_name": "LayoutModel",
          "model_module_version": "1.2.0",
          "state": {
            "_model_module": "@jupyter-widgets/base",
            "_model_module_version": "1.2.0",
            "_model_name": "LayoutModel",
            "_view_count": null,
            "_view_module": "@jupyter-widgets/base",
            "_view_module_version": "1.2.0",
            "_view_name": "LayoutView",
            "align_content": null,
            "align_items": null,
            "align_self": null,
            "border": null,
            "bottom": null,
            "display": null,
            "flex": null,
            "flex_flow": null,
            "grid_area": null,
            "grid_auto_columns": null,
            "grid_auto_flow": null,
            "grid_auto_rows": null,
            "grid_column": null,
            "grid_gap": null,
            "grid_row": null,
            "grid_template_areas": null,
            "grid_template_columns": null,
            "grid_template_rows": null,
            "height": null,
            "justify_content": null,
            "justify_items": null,
            "left": null,
            "margin": null,
            "max_height": null,
            "max_width": null,
            "min_height": null,
            "min_width": null,
            "object_fit": null,
            "object_position": null,
            "order": null,
            "overflow": null,
            "overflow_x": null,
            "overflow_y": null,
            "padding": null,
            "right": null,
            "top": null,
            "visibility": null,
            "width": null
          }
        },
        "0270acc92acc4d628de79ca8791e9312": {
          "model_module": "@jupyter-widgets/output",
          "model_name": "OutputModel",
          "model_module_version": "1.0.0",
          "state": {
            "_dom_classes": [],
            "_model_module": "@jupyter-widgets/output",
            "_model_module_version": "1.0.0",
            "_model_name": "OutputModel",
            "_view_count": null,
            "_view_module": "@jupyter-widgets/output",
            "_view_module_version": "1.0.0",
            "_view_name": "OutputView",
            "layout": "IPY_MODEL_c7b2c5f6ee5349529a64bd92431ae65e",
            "msg_id": "",
            "outputs": [
              {
                "output_type": "display_data",
                "data": {
                  "text/plain": "\u001b[32m⠹\u001b[0m Unpacking common.tar.zst…\n",
                  "text/html": "<pre style=\"white-space:pre;overflow-x:auto;line-height:normal;font-family:Menlo,'DejaVu Sans Mono',consolas,'Courier New',monospace\"><span style=\"color: #008000; text-decoration-color: #008000\">⠹</span> Unpacking common.tar.zst…\n</pre>\n"
                },
                "metadata": {}
              }
            ]
          }
        },
        "c7b2c5f6ee5349529a64bd92431ae65e": {
          "model_module": "@jupyter-widgets/base",
          "model_name": "LayoutModel",
          "model_module_version": "1.2.0",
          "state": {
            "_model_module": "@jupyter-widgets/base",
            "_model_module_version": "1.2.0",
            "_model_name": "LayoutModel",
            "_view_count": null,
            "_view_module": "@jupyter-widgets/base",
            "_view_module_version": "1.2.0",
            "_view_name": "LayoutView",
            "align_content": null,
            "align_items": null,
            "align_self": null,
            "border": null,
            "bottom": null,
            "display": null,
            "flex": null,
            "flex_flow": null,
            "grid_area": null,
            "grid_auto_columns": null,
            "grid_auto_flow": null,
            "grid_auto_rows": null,
            "grid_column": null,
            "grid_gap": null,
            "grid_row": null,
            "grid_template_areas": null,
            "grid_template_columns": null,
            "grid_template_rows": null,
            "height": null,
            "justify_content": null,
            "justify_items": null,
            "left": null,
            "margin": null,
            "max_height": null,
            "max_width": null,
            "min_height": null,
            "min_width": null,
            "object_fit": null,
            "object_position": null,
            "order": null,
            "overflow": null,
            "overflow_x": null,
            "overflow_y": null,
            "padding": null,
            "right": null,
            "top": null,
            "visibility": null,
            "width": null
          }
        },
        "6e7dcc1d121547fca7c4ee9fcf932ab1": {
          "model_module": "@jupyter-widgets/output",
          "model_name": "OutputModel",
          "model_module_version": "1.0.0",
          "state": {
            "_dom_classes": [],
            "_model_module": "@jupyter-widgets/output",
            "_model_module_version": "1.0.0",
            "_model_name": "OutputModel",
            "_view_count": null,
            "_view_module": "@jupyter-widgets/output",
            "_view_module_version": "1.0.0",
            "_view_name": "OutputView",
            "layout": "IPY_MODEL_eb40c534a02b4d44a99490acf46e4ba2",
            "msg_id": "",
            "outputs": [
              {
                "output_type": "display_data",
                "data": {
                  "text/plain": "Downloading sky130_fd_io.tar.zst… \u001b[38;2;249;38;114m━━━━━━━━━━━━━━━━━━━━━━━━━━━━━━━━━━━\u001b[0m\u001b[38;5;237m╺\u001b[0m\u001b[38;5;237m━━━━\u001b[0m \u001b[35m 88%\u001b[0m \u001b[36m0:00:01\u001b[0m\n",
                  "text/html": "<pre style=\"white-space:pre;overflow-x:auto;line-height:normal;font-family:Menlo,'DejaVu Sans Mono',consolas,'Courier New',monospace\">Downloading sky130_fd_io.tar.zst… <span style=\"color: #f92672; text-decoration-color: #f92672\">━━━━━━━━━━━━━━━━━━━━━━━━━━━━━━━━━━━</span><span style=\"color: #3a3a3a; text-decoration-color: #3a3a3a\">╺━━━━</span> <span style=\"color: #800080; text-decoration-color: #800080\"> 88%</span> <span style=\"color: #008080; text-decoration-color: #008080\">0:00:01</span>\n</pre>\n"
                },
                "metadata": {}
              }
            ]
          }
        },
        "eb40c534a02b4d44a99490acf46e4ba2": {
          "model_module": "@jupyter-widgets/base",
          "model_name": "LayoutModel",
          "model_module_version": "1.2.0",
          "state": {
            "_model_module": "@jupyter-widgets/base",
            "_model_module_version": "1.2.0",
            "_model_name": "LayoutModel",
            "_view_count": null,
            "_view_module": "@jupyter-widgets/base",
            "_view_module_version": "1.2.0",
            "_view_name": "LayoutView",
            "align_content": null,
            "align_items": null,
            "align_self": null,
            "border": null,
            "bottom": null,
            "display": null,
            "flex": null,
            "flex_flow": null,
            "grid_area": null,
            "grid_auto_columns": null,
            "grid_auto_flow": null,
            "grid_auto_rows": null,
            "grid_column": null,
            "grid_gap": null,
            "grid_row": null,
            "grid_template_areas": null,
            "grid_template_columns": null,
            "grid_template_rows": null,
            "height": null,
            "justify_content": null,
            "justify_items": null,
            "left": null,
            "margin": null,
            "max_height": null,
            "max_width": null,
            "min_height": null,
            "min_width": null,
            "object_fit": null,
            "object_position": null,
            "order": null,
            "overflow": null,
            "overflow_x": null,
            "overflow_y": null,
            "padding": null,
            "right": null,
            "top": null,
            "visibility": null,
            "width": null
          }
        },
        "b38247265fce4c5fb501c2c1eaa6a33a": {
          "model_module": "@jupyter-widgets/output",
          "model_name": "OutputModel",
          "model_module_version": "1.0.0",
          "state": {
            "_dom_classes": [],
            "_model_module": "@jupyter-widgets/output",
            "_model_module_version": "1.0.0",
            "_model_name": "OutputModel",
            "_view_count": null,
            "_view_module": "@jupyter-widgets/output",
            "_view_module_version": "1.0.0",
            "_view_name": "OutputView",
            "layout": "IPY_MODEL_56c4e362e5fc4569b47112ebc9b28ff6",
            "msg_id": "",
            "outputs": [
              {
                "output_type": "display_data",
                "data": {
                  "text/plain": "\u001b[32m⠦\u001b[0m Unpacking sky130_fd_io.tar.zst…\n",
                  "text/html": "<pre style=\"white-space:pre;overflow-x:auto;line-height:normal;font-family:Menlo,'DejaVu Sans Mono',consolas,'Courier New',monospace\"><span style=\"color: #008000; text-decoration-color: #008000\">⠦</span> Unpacking sky130_fd_io.tar.zst…\n</pre>\n"
                },
                "metadata": {}
              }
            ]
          }
        },
        "56c4e362e5fc4569b47112ebc9b28ff6": {
          "model_module": "@jupyter-widgets/base",
          "model_name": "LayoutModel",
          "model_module_version": "1.2.0",
          "state": {
            "_model_module": "@jupyter-widgets/base",
            "_model_module_version": "1.2.0",
            "_model_name": "LayoutModel",
            "_view_count": null,
            "_view_module": "@jupyter-widgets/base",
            "_view_module_version": "1.2.0",
            "_view_name": "LayoutView",
            "align_content": null,
            "align_items": null,
            "align_self": null,
            "border": null,
            "bottom": null,
            "display": null,
            "flex": null,
            "flex_flow": null,
            "grid_area": null,
            "grid_auto_columns": null,
            "grid_auto_flow": null,
            "grid_auto_rows": null,
            "grid_column": null,
            "grid_gap": null,
            "grid_row": null,
            "grid_template_areas": null,
            "grid_template_columns": null,
            "grid_template_rows": null,
            "height": null,
            "justify_content": null,
            "justify_items": null,
            "left": null,
            "margin": null,
            "max_height": null,
            "max_width": null,
            "min_height": null,
            "min_width": null,
            "object_fit": null,
            "object_position": null,
            "order": null,
            "overflow": null,
            "overflow_x": null,
            "overflow_y": null,
            "padding": null,
            "right": null,
            "top": null,
            "visibility": null,
            "width": null
          }
        },
        "f93561a3285f4872a50e7b8abdddbc9f": {
          "model_module": "@jupyter-widgets/output",
          "model_name": "OutputModel",
          "model_module_version": "1.0.0",
          "state": {
            "_dom_classes": [],
            "_model_module": "@jupyter-widgets/output",
            "_model_module_version": "1.0.0",
            "_model_name": "OutputModel",
            "_view_count": null,
            "_view_module": "@jupyter-widgets/output",
            "_view_module_version": "1.0.0",
            "_view_name": "OutputView",
            "layout": "IPY_MODEL_278217258b33430dabfbd84a4aab22d9",
            "msg_id": "",
            "outputs": [
              {
                "output_type": "display_data",
                "data": {
                  "text/plain": "Downloading sky130_fd_pr.tar.zst… \u001b[38;2;249;38;114m━━━━━━━━━━━━━━━━━\u001b[0m\u001b[38;5;237m╺\u001b[0m\u001b[38;5;237m━━━━━━━━━━━━━━━━━━━━━━\u001b[0m \u001b[35m 43%\u001b[0m \u001b[36m0:00:01\u001b[0m\n",
                  "text/html": "<pre style=\"white-space:pre;overflow-x:auto;line-height:normal;font-family:Menlo,'DejaVu Sans Mono',consolas,'Courier New',monospace\">Downloading sky130_fd_pr.tar.zst… <span style=\"color: #f92672; text-decoration-color: #f92672\">━━━━━━━━━━━━━━━━━</span><span style=\"color: #3a3a3a; text-decoration-color: #3a3a3a\">╺━━━━━━━━━━━━━━━━━━━━━━</span> <span style=\"color: #800080; text-decoration-color: #800080\"> 43%</span> <span style=\"color: #008080; text-decoration-color: #008080\">0:00:01</span>\n</pre>\n"
                },
                "metadata": {}
              }
            ]
          }
        },
        "278217258b33430dabfbd84a4aab22d9": {
          "model_module": "@jupyter-widgets/base",
          "model_name": "LayoutModel",
          "model_module_version": "1.2.0",
          "state": {
            "_model_module": "@jupyter-widgets/base",
            "_model_module_version": "1.2.0",
            "_model_name": "LayoutModel",
            "_view_count": null,
            "_view_module": "@jupyter-widgets/base",
            "_view_module_version": "1.2.0",
            "_view_name": "LayoutView",
            "align_content": null,
            "align_items": null,
            "align_self": null,
            "border": null,
            "bottom": null,
            "display": null,
            "flex": null,
            "flex_flow": null,
            "grid_area": null,
            "grid_auto_columns": null,
            "grid_auto_flow": null,
            "grid_auto_rows": null,
            "grid_column": null,
            "grid_gap": null,
            "grid_row": null,
            "grid_template_areas": null,
            "grid_template_columns": null,
            "grid_template_rows": null,
            "height": null,
            "justify_content": null,
            "justify_items": null,
            "left": null,
            "margin": null,
            "max_height": null,
            "max_width": null,
            "min_height": null,
            "min_width": null,
            "object_fit": null,
            "object_position": null,
            "order": null,
            "overflow": null,
            "overflow_x": null,
            "overflow_y": null,
            "padding": null,
            "right": null,
            "top": null,
            "visibility": null,
            "width": null
          }
        },
        "73b7d92d75214f15b81b92c8d1427cfd": {
          "model_module": "@jupyter-widgets/output",
          "model_name": "OutputModel",
          "model_module_version": "1.0.0",
          "state": {
            "_dom_classes": [],
            "_model_module": "@jupyter-widgets/output",
            "_model_module_version": "1.0.0",
            "_model_name": "OutputModel",
            "_view_count": null,
            "_view_module": "@jupyter-widgets/output",
            "_view_module_version": "1.0.0",
            "_view_name": "OutputView",
            "layout": "IPY_MODEL_d13ee262d1b54be99a7640e625631af0",
            "msg_id": "",
            "outputs": [
              {
                "output_type": "display_data",
                "data": {
                  "text/plain": "\u001b[32m⠸\u001b[0m Unpacking sky130_fd_pr.tar.zst…\n",
                  "text/html": "<pre style=\"white-space:pre;overflow-x:auto;line-height:normal;font-family:Menlo,'DejaVu Sans Mono',consolas,'Courier New',monospace\"><span style=\"color: #008000; text-decoration-color: #008000\">⠸</span> Unpacking sky130_fd_pr.tar.zst…\n</pre>\n"
                },
                "metadata": {}
              }
            ]
          }
        },
        "d13ee262d1b54be99a7640e625631af0": {
          "model_module": "@jupyter-widgets/base",
          "model_name": "LayoutModel",
          "model_module_version": "1.2.0",
          "state": {
            "_model_module": "@jupyter-widgets/base",
            "_model_module_version": "1.2.0",
            "_model_name": "LayoutModel",
            "_view_count": null,
            "_view_module": "@jupyter-widgets/base",
            "_view_module_version": "1.2.0",
            "_view_name": "LayoutView",
            "align_content": null,
            "align_items": null,
            "align_self": null,
            "border": null,
            "bottom": null,
            "display": null,
            "flex": null,
            "flex_flow": null,
            "grid_area": null,
            "grid_auto_columns": null,
            "grid_auto_flow": null,
            "grid_auto_rows": null,
            "grid_column": null,
            "grid_gap": null,
            "grid_row": null,
            "grid_template_areas": null,
            "grid_template_columns": null,
            "grid_template_rows": null,
            "height": null,
            "justify_content": null,
            "justify_items": null,
            "left": null,
            "margin": null,
            "max_height": null,
            "max_width": null,
            "min_height": null,
            "min_width": null,
            "object_fit": null,
            "object_position": null,
            "order": null,
            "overflow": null,
            "overflow_x": null,
            "overflow_y": null,
            "padding": null,
            "right": null,
            "top": null,
            "visibility": null,
            "width": null
          }
        },
        "c4be82fca8184823870f81f85fcaadf8": {
          "model_module": "@jupyter-widgets/output",
          "model_name": "OutputModel",
          "model_module_version": "1.0.0",
          "state": {
            "_dom_classes": [],
            "_model_module": "@jupyter-widgets/output",
            "_model_module_version": "1.0.0",
            "_model_name": "OutputModel",
            "_view_count": null,
            "_view_module": "@jupyter-widgets/output",
            "_view_module_version": "1.0.0",
            "_view_name": "OutputView",
            "layout": "IPY_MODEL_8053fb65a6e64d7c994644f1ac147eda",
            "msg_id": "",
            "outputs": [
              {
                "output_type": "display_data",
                "data": {
                  "text/plain": "Downloading sky130_fd_sc_hd.tar.zst… \u001b[38;2;249;38;114m━━━━━━━━━━━━━━━━━━━━━━━━━━━━━━━━━━━━━━\u001b[0m\u001b[38;2;249;38;114m╸\u001b[0m\u001b[38;5;237m━\u001b[0m \u001b[35m 97%\u001b[0m \u001b[36m0:00:01\u001b[0m\n",
                  "text/html": "<pre style=\"white-space:pre;overflow-x:auto;line-height:normal;font-family:Menlo,'DejaVu Sans Mono',consolas,'Courier New',monospace\">Downloading sky130_fd_sc_hd.tar.zst… <span style=\"color: #f92672; text-decoration-color: #f92672\">━━━━━━━━━━━━━━━━━━━━━━━━━━━━━━━━━━━━━━╸</span><span style=\"color: #3a3a3a; text-decoration-color: #3a3a3a\">━</span> <span style=\"color: #800080; text-decoration-color: #800080\"> 97%</span> <span style=\"color: #008080; text-decoration-color: #008080\">0:00:01</span>\n</pre>\n"
                },
                "metadata": {}
              }
            ]
          }
        },
        "8053fb65a6e64d7c994644f1ac147eda": {
          "model_module": "@jupyter-widgets/base",
          "model_name": "LayoutModel",
          "model_module_version": "1.2.0",
          "state": {
            "_model_module": "@jupyter-widgets/base",
            "_model_module_version": "1.2.0",
            "_model_name": "LayoutModel",
            "_view_count": null,
            "_view_module": "@jupyter-widgets/base",
            "_view_module_version": "1.2.0",
            "_view_name": "LayoutView",
            "align_content": null,
            "align_items": null,
            "align_self": null,
            "border": null,
            "bottom": null,
            "display": null,
            "flex": null,
            "flex_flow": null,
            "grid_area": null,
            "grid_auto_columns": null,
            "grid_auto_flow": null,
            "grid_auto_rows": null,
            "grid_column": null,
            "grid_gap": null,
            "grid_row": null,
            "grid_template_areas": null,
            "grid_template_columns": null,
            "grid_template_rows": null,
            "height": null,
            "justify_content": null,
            "justify_items": null,
            "left": null,
            "margin": null,
            "max_height": null,
            "max_width": null,
            "min_height": null,
            "min_width": null,
            "object_fit": null,
            "object_position": null,
            "order": null,
            "overflow": null,
            "overflow_x": null,
            "overflow_y": null,
            "padding": null,
            "right": null,
            "top": null,
            "visibility": null,
            "width": null
          }
        },
        "bd34d58b25334c0a9f0954e693653f6a": {
          "model_module": "@jupyter-widgets/output",
          "model_name": "OutputModel",
          "model_module_version": "1.0.0",
          "state": {
            "_dom_classes": [],
            "_model_module": "@jupyter-widgets/output",
            "_model_module_version": "1.0.0",
            "_model_name": "OutputModel",
            "_view_count": null,
            "_view_module": "@jupyter-widgets/output",
            "_view_module_version": "1.0.0",
            "_view_name": "OutputView",
            "layout": "IPY_MODEL_e54ef077032a41279eee8b5c6d83a811",
            "msg_id": "",
            "outputs": [
              {
                "output_type": "display_data",
                "data": {
                  "text/plain": "\u001b[32m⠴\u001b[0m Unpacking sky130_fd_sc_hd.tar.zst…\n",
                  "text/html": "<pre style=\"white-space:pre;overflow-x:auto;line-height:normal;font-family:Menlo,'DejaVu Sans Mono',consolas,'Courier New',monospace\"><span style=\"color: #008000; text-decoration-color: #008000\">⠴</span> Unpacking sky130_fd_sc_hd.tar.zst…\n</pre>\n"
                },
                "metadata": {}
              }
            ]
          }
        },
        "e54ef077032a41279eee8b5c6d83a811": {
          "model_module": "@jupyter-widgets/base",
          "model_name": "LayoutModel",
          "model_module_version": "1.2.0",
          "state": {
            "_model_module": "@jupyter-widgets/base",
            "_model_module_version": "1.2.0",
            "_model_name": "LayoutModel",
            "_view_count": null,
            "_view_module": "@jupyter-widgets/base",
            "_view_module_version": "1.2.0",
            "_view_name": "LayoutView",
            "align_content": null,
            "align_items": null,
            "align_self": null,
            "border": null,
            "bottom": null,
            "display": null,
            "flex": null,
            "flex_flow": null,
            "grid_area": null,
            "grid_auto_columns": null,
            "grid_auto_flow": null,
            "grid_auto_rows": null,
            "grid_column": null,
            "grid_gap": null,
            "grid_row": null,
            "grid_template_areas": null,
            "grid_template_columns": null,
            "grid_template_rows": null,
            "height": null,
            "justify_content": null,
            "justify_items": null,
            "left": null,
            "margin": null,
            "max_height": null,
            "max_width": null,
            "min_height": null,
            "min_width": null,
            "object_fit": null,
            "object_position": null,
            "order": null,
            "overflow": null,
            "overflow_x": null,
            "overflow_y": null,
            "padding": null,
            "right": null,
            "top": null,
            "visibility": null,
            "width": null
          }
        },
        "866335fedc2341e0ba035f0fdf66223e": {
          "model_module": "@jupyter-widgets/output",
          "model_name": "OutputModel",
          "model_module_version": "1.0.0",
          "state": {
            "_dom_classes": [],
            "_model_module": "@jupyter-widgets/output",
            "_model_module_version": "1.0.0",
            "_model_name": "OutputModel",
            "_view_count": null,
            "_view_module": "@jupyter-widgets/output",
            "_view_module_version": "1.0.0",
            "_view_name": "OutputView",
            "layout": "IPY_MODEL_422e6cff021949bd87e8cb904c7427f7",
            "msg_id": "",
            "outputs": [
              {
                "output_type": "display_data",
                "data": {
                  "text/plain": "Downloading sky130_fd_sc_hvl.tar.zst… \u001b[38;2;249;38;114m━━━━━━━━━━━━━━━━━━━━━━━━━━\u001b[0m\u001b[38;5;237m╺\u001b[0m\u001b[38;5;237m━━━━━━━━━━━━━\u001b[0m \u001b[35m 66%\u001b[0m \u001b[36m0:00:01\u001b[0m\n",
                  "text/html": "<pre style=\"white-space:pre;overflow-x:auto;line-height:normal;font-family:Menlo,'DejaVu Sans Mono',consolas,'Courier New',monospace\">Downloading sky130_fd_sc_hvl.tar.zst… <span style=\"color: #f92672; text-decoration-color: #f92672\">━━━━━━━━━━━━━━━━━━━━━━━━━━</span><span style=\"color: #3a3a3a; text-decoration-color: #3a3a3a\">╺━━━━━━━━━━━━━</span> <span style=\"color: #800080; text-decoration-color: #800080\"> 66%</span> <span style=\"color: #008080; text-decoration-color: #008080\">0:00:01</span>\n</pre>\n"
                },
                "metadata": {}
              }
            ]
          }
        },
        "422e6cff021949bd87e8cb904c7427f7": {
          "model_module": "@jupyter-widgets/base",
          "model_name": "LayoutModel",
          "model_module_version": "1.2.0",
          "state": {
            "_model_module": "@jupyter-widgets/base",
            "_model_module_version": "1.2.0",
            "_model_name": "LayoutModel",
            "_view_count": null,
            "_view_module": "@jupyter-widgets/base",
            "_view_module_version": "1.2.0",
            "_view_name": "LayoutView",
            "align_content": null,
            "align_items": null,
            "align_self": null,
            "border": null,
            "bottom": null,
            "display": null,
            "flex": null,
            "flex_flow": null,
            "grid_area": null,
            "grid_auto_columns": null,
            "grid_auto_flow": null,
            "grid_auto_rows": null,
            "grid_column": null,
            "grid_gap": null,
            "grid_row": null,
            "grid_template_areas": null,
            "grid_template_columns": null,
            "grid_template_rows": null,
            "height": null,
            "justify_content": null,
            "justify_items": null,
            "left": null,
            "margin": null,
            "max_height": null,
            "max_width": null,
            "min_height": null,
            "min_width": null,
            "object_fit": null,
            "object_position": null,
            "order": null,
            "overflow": null,
            "overflow_x": null,
            "overflow_y": null,
            "padding": null,
            "right": null,
            "top": null,
            "visibility": null,
            "width": null
          }
        },
        "4a6ef2abf15a428eaddb138e5ed7b4c9": {
          "model_module": "@jupyter-widgets/output",
          "model_name": "OutputModel",
          "model_module_version": "1.0.0",
          "state": {
            "_dom_classes": [],
            "_model_module": "@jupyter-widgets/output",
            "_model_module_version": "1.0.0",
            "_model_name": "OutputModel",
            "_view_count": null,
            "_view_module": "@jupyter-widgets/output",
            "_view_module_version": "1.0.0",
            "_view_name": "OutputView",
            "layout": "IPY_MODEL_c7b487819d544852aeb6f1c1e1131bfa",
            "msg_id": "",
            "outputs": [
              {
                "output_type": "display_data",
                "data": {
                  "text/plain": "\u001b[32m⠦\u001b[0m Unpacking sky130_fd_sc_hvl.tar.zst…\n",
                  "text/html": "<pre style=\"white-space:pre;overflow-x:auto;line-height:normal;font-family:Menlo,'DejaVu Sans Mono',consolas,'Courier New',monospace\"><span style=\"color: #008000; text-decoration-color: #008000\">⠦</span> Unpacking sky130_fd_sc_hvl.tar.zst…\n</pre>\n"
                },
                "metadata": {}
              }
            ]
          }
        },
        "c7b487819d544852aeb6f1c1e1131bfa": {
          "model_module": "@jupyter-widgets/base",
          "model_name": "LayoutModel",
          "model_module_version": "1.2.0",
          "state": {
            "_model_module": "@jupyter-widgets/base",
            "_model_module_version": "1.2.0",
            "_model_name": "LayoutModel",
            "_view_count": null,
            "_view_module": "@jupyter-widgets/base",
            "_view_module_version": "1.2.0",
            "_view_name": "LayoutView",
            "align_content": null,
            "align_items": null,
            "align_self": null,
            "border": null,
            "bottom": null,
            "display": null,
            "flex": null,
            "flex_flow": null,
            "grid_area": null,
            "grid_auto_columns": null,
            "grid_auto_flow": null,
            "grid_auto_rows": null,
            "grid_column": null,
            "grid_gap": null,
            "grid_row": null,
            "grid_template_areas": null,
            "grid_template_columns": null,
            "grid_template_rows": null,
            "height": null,
            "justify_content": null,
            "justify_items": null,
            "left": null,
            "margin": null,
            "max_height": null,
            "max_width": null,
            "min_height": null,
            "min_width": null,
            "object_fit": null,
            "object_position": null,
            "order": null,
            "overflow": null,
            "overflow_x": null,
            "overflow_y": null,
            "padding": null,
            "right": null,
            "top": null,
            "visibility": null,
            "width": null
          }
        },
        "2f57d9251cc4452da95455acc453f9b6": {
          "model_module": "@jupyter-widgets/output",
          "model_name": "OutputModel",
          "model_module_version": "1.0.0",
          "state": {
            "_dom_classes": [],
            "_model_module": "@jupyter-widgets/output",
            "_model_module_version": "1.0.0",
            "_model_name": "OutputModel",
            "_view_count": null,
            "_view_module": "@jupyter-widgets/output",
            "_view_module_version": "1.0.0",
            "_view_name": "OutputView",
            "layout": "IPY_MODEL_7e969e432a56481ca3456aac8e33b7ff",
            "msg_id": "",
            "outputs": [
              {
                "output_type": "display_data",
                "data": {
                  "text/plain": "Downloading sky130_ml_xx_hd.tar.zst… \u001b[38;5;237m━━━━━━━━━━━━━━━━━━━━━━━━━━━━━━━━━━━━━━━━\u001b[0m \u001b[35m  0%\u001b[0m \u001b[36m-:--:--\u001b[0m\n",
                  "text/html": "<pre style=\"white-space:pre;overflow-x:auto;line-height:normal;font-family:Menlo,'DejaVu Sans Mono',consolas,'Courier New',monospace\">Downloading sky130_ml_xx_hd.tar.zst… <span style=\"color: #3a3a3a; text-decoration-color: #3a3a3a\">━━━━━━━━━━━━━━━━━━━━━━━━━━━━━━━━━━━━━━━━</span> <span style=\"color: #800080; text-decoration-color: #800080\">  0%</span> <span style=\"color: #008080; text-decoration-color: #008080\">-:--:--</span>\n</pre>\n"
                },
                "metadata": {}
              }
            ]
          }
        },
        "7e969e432a56481ca3456aac8e33b7ff": {
          "model_module": "@jupyter-widgets/base",
          "model_name": "LayoutModel",
          "model_module_version": "1.2.0",
          "state": {
            "_model_module": "@jupyter-widgets/base",
            "_model_module_version": "1.2.0",
            "_model_name": "LayoutModel",
            "_view_count": null,
            "_view_module": "@jupyter-widgets/base",
            "_view_module_version": "1.2.0",
            "_view_name": "LayoutView",
            "align_content": null,
            "align_items": null,
            "align_self": null,
            "border": null,
            "bottom": null,
            "display": null,
            "flex": null,
            "flex_flow": null,
            "grid_area": null,
            "grid_auto_columns": null,
            "grid_auto_flow": null,
            "grid_auto_rows": null,
            "grid_column": null,
            "grid_gap": null,
            "grid_row": null,
            "grid_template_areas": null,
            "grid_template_columns": null,
            "grid_template_rows": null,
            "height": null,
            "justify_content": null,
            "justify_items": null,
            "left": null,
            "margin": null,
            "max_height": null,
            "max_width": null,
            "min_height": null,
            "min_width": null,
            "object_fit": null,
            "object_position": null,
            "order": null,
            "overflow": null,
            "overflow_x": null,
            "overflow_y": null,
            "padding": null,
            "right": null,
            "top": null,
            "visibility": null,
            "width": null
          }
        },
        "8ddd600c6e7347fcadd3891cce44ce5a": {
          "model_module": "@jupyter-widgets/output",
          "model_name": "OutputModel",
          "model_module_version": "1.0.0",
          "state": {
            "_dom_classes": [],
            "_model_module": "@jupyter-widgets/output",
            "_model_module_version": "1.0.0",
            "_model_name": "OutputModel",
            "_view_count": null,
            "_view_module": "@jupyter-widgets/output",
            "_view_module_version": "1.0.0",
            "_view_name": "OutputView",
            "layout": "IPY_MODEL_25e4cf1495a149d2802b89a1153c450f",
            "msg_id": "",
            "outputs": [
              {
                "output_type": "display_data",
                "data": {
                  "text/plain": "Downloading sky130_sram_macros.tar.zst… \u001b[38;2;249;38;114m━━━━━━━━━━━━━━━━━━━━━━━━━━━━━━━\u001b[0m\u001b[38;2;249;38;114m╸\u001b[0m\u001b[38;5;237m━━━━━━━━\u001b[0m \u001b[35m 80%\u001b[0m \u001b[36m0:00:01\u001b[0m\n",
                  "text/html": "<pre style=\"white-space:pre;overflow-x:auto;line-height:normal;font-family:Menlo,'DejaVu Sans Mono',consolas,'Courier New',monospace\">Downloading sky130_sram_macros.tar.zst… <span style=\"color: #f92672; text-decoration-color: #f92672\">━━━━━━━━━━━━━━━━━━━━━━━━━━━━━━━╸</span><span style=\"color: #3a3a3a; text-decoration-color: #3a3a3a\">━━━━━━━━</span> <span style=\"color: #800080; text-decoration-color: #800080\"> 80%</span> <span style=\"color: #008080; text-decoration-color: #008080\">0:00:01</span>\n</pre>\n"
                },
                "metadata": {}
              }
            ]
          }
        },
        "25e4cf1495a149d2802b89a1153c450f": {
          "model_module": "@jupyter-widgets/base",
          "model_name": "LayoutModel",
          "model_module_version": "1.2.0",
          "state": {
            "_model_module": "@jupyter-widgets/base",
            "_model_module_version": "1.2.0",
            "_model_name": "LayoutModel",
            "_view_count": null,
            "_view_module": "@jupyter-widgets/base",
            "_view_module_version": "1.2.0",
            "_view_name": "LayoutView",
            "align_content": null,
            "align_items": null,
            "align_self": null,
            "border": null,
            "bottom": null,
            "display": null,
            "flex": null,
            "flex_flow": null,
            "grid_area": null,
            "grid_auto_columns": null,
            "grid_auto_flow": null,
            "grid_auto_rows": null,
            "grid_column": null,
            "grid_gap": null,
            "grid_row": null,
            "grid_template_areas": null,
            "grid_template_columns": null,
            "grid_template_rows": null,
            "height": null,
            "justify_content": null,
            "justify_items": null,
            "left": null,
            "margin": null,
            "max_height": null,
            "max_width": null,
            "min_height": null,
            "min_width": null,
            "object_fit": null,
            "object_position": null,
            "order": null,
            "overflow": null,
            "overflow_x": null,
            "overflow_y": null,
            "padding": null,
            "right": null,
            "top": null,
            "visibility": null,
            "width": null
          }
        },
        "dab7023491524d7aa7905ed032e12dc2": {
          "model_module": "@jupyter-widgets/output",
          "model_name": "OutputModel",
          "model_module_version": "1.0.0",
          "state": {
            "_dom_classes": [],
            "_model_module": "@jupyter-widgets/output",
            "_model_module_version": "1.0.0",
            "_model_name": "OutputModel",
            "_view_count": null,
            "_view_module": "@jupyter-widgets/output",
            "_view_module_version": "1.0.0",
            "_view_name": "OutputView",
            "layout": "IPY_MODEL_785a07a01e5345c5b0b15dc58d8e8c22",
            "msg_id": "",
            "outputs": [
              {
                "output_type": "display_data",
                "data": {
                  "text/plain": "\u001b[32m⠦\u001b[0m Unpacking sky130_sram_macros.tar.zst…\n",
                  "text/html": "<pre style=\"white-space:pre;overflow-x:auto;line-height:normal;font-family:Menlo,'DejaVu Sans Mono',consolas,'Courier New',monospace\"><span style=\"color: #008000; text-decoration-color: #008000\">⠦</span> Unpacking sky130_sram_macros.tar.zst…\n</pre>\n"
                },
                "metadata": {}
              }
            ]
          }
        },
        "785a07a01e5345c5b0b15dc58d8e8c22": {
          "model_module": "@jupyter-widgets/base",
          "model_name": "LayoutModel",
          "model_module_version": "1.2.0",
          "state": {
            "_model_module": "@jupyter-widgets/base",
            "_model_module_version": "1.2.0",
            "_model_name": "LayoutModel",
            "_view_count": null,
            "_view_module": "@jupyter-widgets/base",
            "_view_module_version": "1.2.0",
            "_view_name": "LayoutView",
            "align_content": null,
            "align_items": null,
            "align_self": null,
            "border": null,
            "bottom": null,
            "display": null,
            "flex": null,
            "flex_flow": null,
            "grid_area": null,
            "grid_auto_columns": null,
            "grid_auto_flow": null,
            "grid_auto_rows": null,
            "grid_column": null,
            "grid_gap": null,
            "grid_row": null,
            "grid_template_areas": null,
            "grid_template_columns": null,
            "grid_template_rows": null,
            "height": null,
            "justify_content": null,
            "justify_items": null,
            "left": null,
            "margin": null,
            "max_height": null,
            "max_width": null,
            "min_height": null,
            "min_width": null,
            "object_fit": null,
            "object_position": null,
            "order": null,
            "overflow": null,
            "overflow_x": null,
            "overflow_y": null,
            "padding": null,
            "right": null,
            "top": null,
            "visibility": null,
            "width": null
          }
        }
      }
    }
  },
  "nbformat": 4,
  "nbformat_minor": 0
}